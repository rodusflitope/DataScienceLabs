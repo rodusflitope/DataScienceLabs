{
  "cells": [
    {
      "cell_type": "markdown",
      "metadata": {
        "id": "_Tgm8mCA9Dp3"
      },
      "source": [
        "# Laboratorio 5: Clasificación 🤗\n",
        "\n",
        "<center><strong>MDS7202: Laboratorio de Programación Científica para Ciencia de Datos - Primavera 2025</strong></center>\n"
      ]
    },
    {
      "cell_type": "markdown",
      "metadata": {
        "id": "11Kc_ibM9GXH"
      },
      "source": [
        "### Cuerpo Docente:\n",
        "\n",
        "- Profesores: Diego Cortez, Gabriel Iturra\n",
        "- Auxiliares: Melanie Peña, Valentina Rojas\n",
        "- Ayudantes: Nicolás Cabello, Cristopher Urbina"
      ]
    },
    {
      "cell_type": "markdown",
      "metadata": {
        "id": "u9dUSltr9JrN"
      },
      "source": [
        "### Equipo: SUPER IMPORTANTE - notebooks sin nombre no serán revisados\n",
        "\n",
        "- Nombre de alumno 1: Rafael Tapia\n",
        "- Nombre de alumno 2: Daniel Vargas"
      ]
    },
    {
      "cell_type": "markdown",
      "metadata": {
        "id": "pC1IloytrsAx"
      },
      "source": [
        "### **Link de repositorio de GitHub:** [Insertar Repositorio](https://github.com/rodusflitope/DataScienceLabs)"
      ]
    },
    {
      "cell_type": "markdown",
      "metadata": {
        "id": "YBa48PDF9OHw"
      },
      "source": [
        "### Temas a tratar\n",
        "- Clasificación en problemas desbalanceados\n",
        "- Lightgbm y xgboost\n",
        "- Pipelines"
      ]
    },
    {
      "cell_type": "markdown",
      "metadata": {
        "id": "mkhnnMx49Qrh"
      },
      "source": [
        "## Reglas:\n",
        "\n",
        "- **Grupos de 2 personas**\n",
        "- Fecha de entrega: Entregas Martes a las 23:59.\n",
        "- Instrucciones del lab el viernes a las 16:15 en formato online. Asistencia no es obligatoria, pero se recomienda **fuertemente** asistir.\n",
        "- <u>Prohibidas las copias</u>. Cualquier intento de copia será debidamente penalizado con el reglamento de la escuela.\n",
        "- Tienen que subir el laboratorio a u-cursos y a su repositorio de github. Labs que no estén en u-cursos no serán revisados. Recuerden que el repositorio también tiene nota.\n",
        "- Cualquier duda fuera del horario de clases al foro. Mensajes al equipo docente serán respondidos por este medio.\n",
        "- Pueden usar cualquier material del curso que estimen conveniente.\n",
        "\n"
      ]
    },
    {
      "cell_type": "markdown",
      "metadata": {
        "id": "sxzJ48Vv8quO"
      },
      "source": [
        "\n",
        "\n",
        "### Objetivos principales del laboratorio\n",
        "- Comprender cómo trabajar con problemas de clasificación con clases desbalanceadas.\n",
        "- Aplicar los modelos lightgbm y xgboost.\n",
        "- Practicar Pipelines"
      ]
    },
    {
      "cell_type": "markdown",
      "metadata": {
        "id": "k-ao0mOU64Ru"
      },
      "source": [
        "# Parte Teórica [12 puntos]\n",
        "\n",
        "\n"
      ]
    },
    {
      "cell_type": "markdown",
      "metadata": {
        "id": "ApXKwPDmxcEV"
      },
      "source": [
        "1. Explique cuál es la diferencia entre los datos de entrenamiento y validación. [1 punto]\n",
        "\n",
        "2. Explique cuál es el principal desafío al trabajar problemas de clasificación con data no supervisada. [1 punto]\n",
        "\n",
        "3. Explique en **sus palabras** qué es la matriz de confusión y para qué se utiliza. [1 puntos]\n",
        "\n",
        "4. Escriba la fórmula de las siguientes métricas y explique con **sus palabras** cómo se interpretan. [1 punto cada uno]\n",
        "\n",
        "  * Accuracy\n",
        "  * Precision\n",
        "  * Recall\n",
        "  * F1 score\n",
        "\n",
        "5. Explique qué métrica recomendaría para los siguientes contextos de clasificación. [1 punto cada uno]\n",
        "\n",
        "  * Mantenimiento predictivo de fallas de maquinaria pesada en la industria minera.  \n",
        "  * Detección de enfermedades altamente contagiosas.\n",
        "  * Aprobación de créditos de alto riesgo.\n",
        "  * Detección de crímenes.\n",
        "\n",
        "6. Explique qué es la calibración de modelos y para qué se usa. [1 punto]\n"
      ]
    },
    {
      "cell_type": "markdown",
      "metadata": {
        "id": "Yy4QMWD8-FPk"
      },
      "source": [
        "**Respuesta:**"
      ]
    },
    {
      "cell_type": "markdown",
      "metadata": {
        "id": "QYFdD1aK-ICa"
      },
      "source": [
        "1. La diferencia entre los datos de entrenamiento y validación es que el primero se usa para entrenar los modelos mientras el segundo se utiliza para seleccionar el mejor modelo al ir variando sus hiperparámetros.\n",
        "\n",
        "2. El principal desafío al trabajar problemas de clasificación con data no supervisada es que no existen etiquetas en los datos, lo cual dificulta el poder determinar la calidad de las predicciones sobre ellos.\n",
        "\n",
        "3. La matriz de confusión es una métrica de desempeño que permite determinar la capacidad predictiva de un modelo contrastando los valores predichos versus los reales.  \n",
        "\n",
        "4.\n",
        "  * Accuracy:\n",
        "$$\n",
        " \\frac{TP + TN}{TP + TN + FP + FN}\n",
        "$$\n",
        "\n",
        "  Mide qué tan buenas son las predicciones (TP y TN) sobre el total de datos. Se puede interpretar como el nivel global de acierto del modelo.\n",
        "\n",
        "  * Precision:\n",
        "  $$\n",
        "\\text{P} = \\frac{TP}{TP + FP}\n",
        "$$\n",
        "\n",
        "Mide cuántos casos, de los que fueron clasificados como positivos, son realmente positivos.\n",
        "\n",
        "  * Recall:\n",
        "  $$\n",
        "\\text{R} = \\frac{TP}{TP + FN}\n",
        "$$\n",
        "Mide cuántos casos, de los que son realmente positivos, fueron clasificados correctamente como positivos.  \n",
        "  * F1 score:\n",
        "$$\n",
        "F1 = 2 \\cdot \\frac{\\text{P} \\cdot \\text{R}}{\\text{P} + \\text{R}}\n",
        "$$\n",
        "\n",
        "Se puede interpretar como una media harmonica entre precision y recall. Castiga si ambas métricas son muy diferentes.\n",
        "\n",
        "5. Explique qué métrica recomendaría para los siguientes contextos de clasificación.\n",
        "\n",
        "  * Mantenimiento predictivo de fallas de maquinaria pesada en la industria minera.\n",
        "\n",
        "  Dado el porcentaje de máquinas que eventualmente pueden fallar, es de interés clasificar correctamente las máquinas que tienen Fallas (clase \"+\").\n",
        "  Clasificar una maquina en buenas condiciones como si tuviera una Falla (FP) no representa ningún riesgo a nivel operativo, por lo que se desea minimizar el error de clasificar una máquina que tenga fallas como si estuviera en buenas condiciones (FN). En este sentido es recomendable utilizar Recall. Sin embargo, muchos Falsos positivos puede hacer que se le haga mantenimiento innecesario a máquinas que no lo necesitaban, por lo que se puede complementar la metrica mencionada con F1 score para balancear recall y precision.  \n",
        "\n",
        "\n",
        "  * Detección de enfermedades altamente contagiosas.\n",
        "\n",
        "En este contexto es trascendental detectar enfermedades altamente contagiosas con la mayor precisión posible. Al ser la clase positiva \"enfermedad contagiosa\", se busca reducir la tasa de enfermedades que fueron clasificadas como \"no contagiosas\" cuando en realidad si lo eran, es decir, minimizar la tasa de falsos negativos. Para esto es altamente recomendable utilizar el Recall.\n",
        "\n",
        "\n",
        "  * Aprobación de créditos de alto riesgo.\n",
        "\n",
        "En este contexto, clasificar erróneamente un credito de alto riesgo como uno que no lo es, no necesariamente representa una amenaza para la entidad, pues bajo medidas de protección financiera adecuadas, este credito riesgoso puede traer consigo un alto retorno. Si la clase positiva es crédito riesgoso, un Falso Negativo no es inadmisible, por lo que el interés se centra en reducir la tasa de créditos que son clasificados como riesgosos cuando en realidad no lo son (FP), pues una cartera suficientemente fuerte a nivel financiero puede tratar con altos riesgos, incluso si estos fueron clasificados como \"no riesgosos\". Se recomendaría entonces usar la métrica de Precision.\n",
        "\n",
        "  * Detección de crímenes.\n",
        "\n",
        "En este contexto es importante detectar crímenes (clase +) correctamente evitando clasificarlos erroneamente como si no lo fueran, es decir, minimizar la tasa de Falsos Negativos. Por otra parte, condenar a alguien por cometer un acto considerado como crimen cuando en realidad no lo era, sería injusto, asi que también interesa evitar falsos positivos. Combinando ambos enfoques, se recomendaría utilizar F1 score para balancear tanto precision como recall.  \n",
        "\n",
        "\n",
        "\n",
        "6. La calibración de modelos es un proceso que permite interpretar las probabilidades estimadas como frecuencias a largo plazo. La calibración se utiliza cuando se requiere que las probabilidades sean confiables e interpretables en la toma de decisiones de los modelos y para modular los scores.\n",
        "\n"
      ]
    },
    {
      "cell_type": "markdown",
      "metadata": {
        "id": "Jg_9jBqtgRDO"
      },
      "source": [
        "# Parte práctica [48 puntos]"
      ]
    },
    {
      "cell_type": "markdown",
      "metadata": {
        "id": "slm6yRfdfZwS"
      },
      "source": [
        "<p align=\"center\">\n",
        "  <img src=\"https://drive.google.com/uc?export=view&id=1BnO4tyh3vM2P199Ec9s3JjngQ4qQ9seP\"\n",
        "\" width=\"300\">\n",
        "</p>\n",
        "\n",
        "\n",
        "Tras el trágico despido de la mítica mascota de Maipú, Renacín decide adentrarse como consultor en el mercado futbolero, el cuál (para variar...) está cargado en especulaciones.\n",
        "\n",
        "Como su principal tarea será asesorar a los directivos de los clubes sobre cuál jugador comprar y cuál no, Renacín desea generar modelos predictivos que evaluén distintas características de los jugadores; todo con el fin de tomar decisiones concretas basadas en los datos.\n",
        "\n",
        "Sin embargo, su condición de corporeo le impidió tomar la versión anterior de MDS7202, por lo que este motivo Renacín contrata a su equipo para lograr su objetivo final. Dado que aún tiene fuertes vínculos con la dirección de deportes de la municipalidad, el corporeo le entrega base de datos con las estadísticas de cada jugador para que su equipo empieze a trabajar ya con un dataset listo para ser usado.\n"
      ]
    },
    {
      "cell_type": "markdown",
      "metadata": {
        "id": "jnbx7RwHfkue"
      },
      "source": [
        "**Los Datos**\n",
        "\n",
        "Para este laboratorio deberán trabajar con el csv `statsplayers.csv`, donde deberán aplicar algoritmos de aprendizaje supervisado de clasificación en base a características que describen de jugadores de fútbol.\n",
        "\n",
        "Para comenzar cargue el dataset señalado y a continuación vea el reporte **`Player_Stats_Report.html`** (adjunto en la carpeta del enunciado) que describe las características principales del `DataFrame`."
      ]
    },
    {
      "cell_type": "code",
      "execution_count": 2,
      "metadata": {
        "colab": {
          "base_uri": "https://localhost:8080/"
        },
        "id": "mX6iwOWUfrp_",
        "outputId": "8d46b2ae-d512-41b4-f273-f938bdc794a9"
      },
      "outputs": [
        {
          "name": "stdout",
          "output_type": "stream",
          "text": [
            "Ignorando conexión drive-colab\n"
          ]
        }
      ],
      "source": [
        "# Si usted está utilizando Colabolatory le puede ser útil este código para cargar los archivos.\n",
        "try:\n",
        "    from google.colab import drive\n",
        "    drive.mount(\"/content/drive\")\n",
        "    path = '/content/drive/My Drive/Colab Notebooks/Lab de Programación - Primavera 2025/Lab5/stats_players.csv'\n",
        "except:\n",
        "    print('Ignorando conexión drive-colab')"
      ]
    },
    {
      "cell_type": "markdown",
      "metadata": {
        "id": "JdcucZhp-M_0"
      },
      "source": [
        "## 1. Predicción de Seleccionados Nacionales [14 puntos]"
      ]
    },
    {
      "cell_type": "markdown",
      "metadata": {
        "id": "HXrewqxjjzvA"
      },
      "source": [
        "<p align=\"center\">\n",
        "  <img src=\"https://www.futuro.cl/wp-content/uploads/2016/06/chile-argentina-meme-12.jpg\" width=\"300\">\n",
        "</p>\n",
        "\n"
      ]
    },
    {
      "cell_type": "markdown",
      "metadata": {
        "id": "Qfre1YsSDqla"
      },
      "source": [
        "### 1.1 Preprocesamiento [5 puntos]"
      ]
    },
    {
      "cell_type": "markdown",
      "metadata": {
        "id": "IR00u4HTDtxv"
      },
      "source": [
        "Tareas:\n",
        "\n",
        "1. Genere los labels para la clasificación binaria en una variable llamada `label`. Para esto, trabaje sobre el atributo `National_Position` suponiendo que los valores nulos son jugadores no seleccionados para representar a su país. [Sin puntaje]\n",
        "\n",
        "2. Hecho esto, ¿cuántos se tienen ejemplos por cada clase? Comente lo que observa. [1 punto]\n",
        "\n",
        "3. Genere un `ColumnTransformer` en donde especifique las transformaciones que hay que realizar para cada columna (por ejemplo StandarScaler, MinMaxScaler, OneHotEncoder, etc...) para que puedan ser utilizadas correctamente por el modelo predictivo y guárdelo una variable llamada `col_transformer`. [2 puntos]\n",
        "\n",
        "4. Comente y justifique las transformaciones elegidas sobre cada una de las variables (para esto utilice el material `Player_Stats_Report.html` que viene en el zip del lab), al igual que las transformaciones aplicadas. [2 puntos]"
      ]
    },
    {
      "cell_type": "markdown",
      "metadata": {
        "id": "tgAk0kbPjEsx"
      },
      "source": [
        "**Respuesta:**"
      ]
    },
    {
      "cell_type": "code",
      "execution_count": 3,
      "metadata": {
        "id": "zFe_HEcs12wz"
      },
      "outputs": [],
      "source": [
        "# df.isna().sum()"
      ]
    },
    {
      "cell_type": "code",
      "execution_count": 4,
      "metadata": {
        "id": "JhC2sZj9dSI1"
      },
      "outputs": [],
      "source": [
        "import pandas as pd\n",
        "df = pd.read_csv('D:\\Academico\\Master Data Science\\Semestre II - Primavera\\Laboratorio de programación\\Lab5\\stats_players.csv')\n"
      ]
    },
    {
      "cell_type": "code",
      "execution_count": 5,
      "metadata": {
        "colab": {
          "base_uri": "https://localhost:8080/",
          "height": 342
        },
        "id": "XnR0rCdYcklq",
        "outputId": "5efca5c6-4830-44f4-a0d4-4fc4f359845c"
      },
      "outputs": [
        {
          "data": {
            "text/html": [
              "<div>\n",
              "<style scoped>\n",
              "    .dataframe tbody tr th:only-of-type {\n",
              "        vertical-align: middle;\n",
              "    }\n",
              "\n",
              "    .dataframe tbody tr th {\n",
              "        vertical-align: top;\n",
              "    }\n",
              "\n",
              "    .dataframe thead th {\n",
              "        text-align: right;\n",
              "    }\n",
              "</style>\n",
              "<table border=\"1\" class=\"dataframe\">\n",
              "  <thead>\n",
              "    <tr style=\"text-align: right;\">\n",
              "      <th></th>\n",
              "      <th>Name</th>\n",
              "      <th>Nationality</th>\n",
              "      <th>National_Position</th>\n",
              "      <th>Club_Position</th>\n",
              "      <th>Height</th>\n",
              "      <th>Weight</th>\n",
              "      <th>Preffered_Foot</th>\n",
              "      <th>Age</th>\n",
              "      <th>Work_Rate</th>\n",
              "      <th>Weak_foot</th>\n",
              "      <th>...</th>\n",
              "      <th>Agility</th>\n",
              "      <th>Jumping</th>\n",
              "      <th>Heading</th>\n",
              "      <th>Shot_Power</th>\n",
              "      <th>Finishing</th>\n",
              "      <th>Long_Shots</th>\n",
              "      <th>Curve</th>\n",
              "      <th>Freekick_Accuracy</th>\n",
              "      <th>Penalties</th>\n",
              "      <th>Volleys</th>\n",
              "    </tr>\n",
              "  </thead>\n",
              "  <tbody>\n",
              "    <tr>\n",
              "      <th>0</th>\n",
              "      <td>Cristiano Ronaldo</td>\n",
              "      <td>Portugal</td>\n",
              "      <td>LS</td>\n",
              "      <td>LW</td>\n",
              "      <td>185</td>\n",
              "      <td>80</td>\n",
              "      <td>Right</td>\n",
              "      <td>32</td>\n",
              "      <td>High / Low</td>\n",
              "      <td>4</td>\n",
              "      <td>...</td>\n",
              "      <td>90</td>\n",
              "      <td>95</td>\n",
              "      <td>85</td>\n",
              "      <td>92</td>\n",
              "      <td>93</td>\n",
              "      <td>90</td>\n",
              "      <td>81</td>\n",
              "      <td>76</td>\n",
              "      <td>85</td>\n",
              "      <td>88</td>\n",
              "    </tr>\n",
              "    <tr>\n",
              "      <th>1</th>\n",
              "      <td>Lionel Messi</td>\n",
              "      <td>Argentina</td>\n",
              "      <td>RW</td>\n",
              "      <td>RW</td>\n",
              "      <td>170</td>\n",
              "      <td>72</td>\n",
              "      <td>Left</td>\n",
              "      <td>29</td>\n",
              "      <td>Medium / Medium</td>\n",
              "      <td>4</td>\n",
              "      <td>...</td>\n",
              "      <td>90</td>\n",
              "      <td>68</td>\n",
              "      <td>71</td>\n",
              "      <td>85</td>\n",
              "      <td>95</td>\n",
              "      <td>88</td>\n",
              "      <td>89</td>\n",
              "      <td>90</td>\n",
              "      <td>74</td>\n",
              "      <td>85</td>\n",
              "    </tr>\n",
              "    <tr>\n",
              "      <th>2</th>\n",
              "      <td>Neymar</td>\n",
              "      <td>Brazil</td>\n",
              "      <td>LW</td>\n",
              "      <td>LW</td>\n",
              "      <td>174</td>\n",
              "      <td>68</td>\n",
              "      <td>Right</td>\n",
              "      <td>25</td>\n",
              "      <td>High / Medium</td>\n",
              "      <td>5</td>\n",
              "      <td>...</td>\n",
              "      <td>96</td>\n",
              "      <td>61</td>\n",
              "      <td>62</td>\n",
              "      <td>78</td>\n",
              "      <td>89</td>\n",
              "      <td>77</td>\n",
              "      <td>79</td>\n",
              "      <td>84</td>\n",
              "      <td>81</td>\n",
              "      <td>83</td>\n",
              "    </tr>\n",
              "    <tr>\n",
              "      <th>3</th>\n",
              "      <td>Luis Suárez</td>\n",
              "      <td>Uruguay</td>\n",
              "      <td>LS</td>\n",
              "      <td>ST</td>\n",
              "      <td>182</td>\n",
              "      <td>85</td>\n",
              "      <td>Right</td>\n",
              "      <td>30</td>\n",
              "      <td>High / Medium</td>\n",
              "      <td>4</td>\n",
              "      <td>...</td>\n",
              "      <td>86</td>\n",
              "      <td>69</td>\n",
              "      <td>77</td>\n",
              "      <td>87</td>\n",
              "      <td>94</td>\n",
              "      <td>86</td>\n",
              "      <td>86</td>\n",
              "      <td>84</td>\n",
              "      <td>85</td>\n",
              "      <td>88</td>\n",
              "    </tr>\n",
              "    <tr>\n",
              "      <th>4</th>\n",
              "      <td>Manuel Neuer</td>\n",
              "      <td>Germany</td>\n",
              "      <td>GK</td>\n",
              "      <td>GK</td>\n",
              "      <td>193</td>\n",
              "      <td>92</td>\n",
              "      <td>Right</td>\n",
              "      <td>31</td>\n",
              "      <td>Medium / Medium</td>\n",
              "      <td>4</td>\n",
              "      <td>...</td>\n",
              "      <td>52</td>\n",
              "      <td>78</td>\n",
              "      <td>25</td>\n",
              "      <td>25</td>\n",
              "      <td>13</td>\n",
              "      <td>16</td>\n",
              "      <td>14</td>\n",
              "      <td>11</td>\n",
              "      <td>47</td>\n",
              "      <td>11</td>\n",
              "    </tr>\n",
              "  </tbody>\n",
              "</table>\n",
              "<p>5 rows × 39 columns</p>\n",
              "</div>"
            ],
            "text/plain": [
              "                Name Nationality National_Position Club_Position  Height  \\\n",
              "0  Cristiano Ronaldo    Portugal                LS            LW     185   \n",
              "1       Lionel Messi   Argentina                RW            RW     170   \n",
              "2             Neymar      Brazil                LW            LW     174   \n",
              "3        Luis Suárez     Uruguay                LS            ST     182   \n",
              "4       Manuel Neuer     Germany                GK            GK     193   \n",
              "\n",
              "   Weight Preffered_Foot  Age        Work_Rate  Weak_foot  ...  Agility  \\\n",
              "0      80          Right   32       High / Low          4  ...       90   \n",
              "1      72           Left   29  Medium / Medium          4  ...       90   \n",
              "2      68          Right   25    High / Medium          5  ...       96   \n",
              "3      85          Right   30    High / Medium          4  ...       86   \n",
              "4      92          Right   31  Medium / Medium          4  ...       52   \n",
              "\n",
              "   Jumping  Heading  Shot_Power  Finishing  Long_Shots  Curve  \\\n",
              "0       95       85          92         93          90     81   \n",
              "1       68       71          85         95          88     89   \n",
              "2       61       62          78         89          77     79   \n",
              "3       69       77          87         94          86     86   \n",
              "4       78       25          25         13          16     14   \n",
              "\n",
              "   Freekick_Accuracy  Penalties  Volleys  \n",
              "0                 76         85       88  \n",
              "1                 90         74       85  \n",
              "2                 84         81       83  \n",
              "3                 84         85       88  \n",
              "4                 11         47       11  \n",
              "\n",
              "[5 rows x 39 columns]"
            ]
          },
          "execution_count": 5,
          "metadata": {},
          "output_type": "execute_result"
        }
      ],
      "source": [
        "df.head()\n"
      ]
    },
    {
      "cell_type": "code",
      "execution_count": 6,
      "metadata": {
        "colab": {
          "base_uri": "https://localhost:8080/"
        },
        "id": "ic68ZhZadVtO",
        "outputId": "6f6a7dc7-bfed-4ab3-deca-061fd747c555"
      },
      "outputs": [
        {
          "name": "stdout",
          "output_type": "stream",
          "text": [
            "(17588, 39)\n"
          ]
        }
      ],
      "source": [
        "print(df.shape)"
      ]
    },
    {
      "cell_type": "markdown",
      "metadata": {
        "id": "bEc4V_sDbGpe"
      },
      "source": [
        "**1.1.1 Generación variable binaria \"Label\"**"
      ]
    },
    {
      "cell_type": "code",
      "execution_count": 7,
      "metadata": {
        "id": "Vtinz6TCaKeQ"
      },
      "outputs": [],
      "source": [
        "# Creación de variable binaria \"label\", que vale 1 si el jugador es seleccionado y 0 si no es seleccionado para representar a su país.\n",
        "df[\"label\"] = df[\"National_Position\"].notna().astype(int)"
      ]
    },
    {
      "cell_type": "code",
      "execution_count": 8,
      "metadata": {
        "colab": {
          "base_uri": "https://localhost:8080/",
          "height": 178
        },
        "id": "mFL_YMNycc_I",
        "outputId": "e8b1d821-0b53-47cf-b6da-2e8f90982aa0"
      },
      "outputs": [
        {
          "data": {
            "text/plain": [
              "label\n",
              "0    16513\n",
              "1     1075\n",
              "Name: count, dtype: int64"
            ]
          },
          "execution_count": 8,
          "metadata": {},
          "output_type": "execute_result"
        }
      ],
      "source": [
        "df[\"label\"].value_counts()"
      ]
    },
    {
      "cell_type": "code",
      "execution_count": 9,
      "metadata": {
        "colab": {
          "base_uri": "https://localhost:8080/",
          "height": 178
        },
        "id": "VKjwrsSOsf8y",
        "outputId": "723a6934-4b72-4b46-a9ed-04db42d73a4e"
      },
      "outputs": [
        {
          "data": {
            "text/plain": [
              "label\n",
              "0    93.9\n",
              "1     6.1\n",
              "Name: count, dtype: float64"
            ]
          },
          "execution_count": 9,
          "metadata": {},
          "output_type": "execute_result"
        }
      ],
      "source": [
        "pct = df[\"label\"].value_counts()/df[\"label\"].value_counts().sum().round(3)\n",
        "pct.round(3)*100"
      ]
    },
    {
      "cell_type": "markdown",
      "metadata": {
        "id": "UEKr0gRheNzR"
      },
      "source": [
        "**1.1.2. Rta/**\n",
        "Se observa que hay 16.513 jugadores que no fueron seleccionados para representar a su país lo cual corresponde al 93.9% del total. Este desbalance de clases debe considerarse al momento de evaluar métricas como accuracy, precision, recall, etc."
      ]
    },
    {
      "cell_type": "markdown",
      "metadata": {
        "id": "ZiITvj7v-7W_"
      },
      "source": [
        "**1.1.3 Rta/** Antes de hacer algún preprocesamiento, se observa que hay variables categóricas con muchas categorias, por ejemplo: **Nacionalidad** cuenta con 160 categorias, **Club_Position** cuenta con 29 categorías. Aplicar OneHotEnconder a este tipo de variables puede generar alta dimensionalidad y mantener categorías con información poco relevante. Por esta razón se construye una función que agrupa aquellas categorias con la frecuencia relativa mas baja o inferior a un umbral, por ejemplo el 1% del total.  "
      ]
    },
    {
      "cell_type": "code",
      "execution_count": 10,
      "metadata": {
        "id": "jV41AqCW4Lvo"
      },
      "outputs": [],
      "source": [
        "from sklearn.compose import ColumnTransformer\n",
        "from sklearn.pipeline import Pipeline\n",
        "from sklearn.preprocessing import StandardScaler, OneHotEncoder\n",
        "from sklearn.impute import SimpleImputer"
      ]
    },
    {
      "cell_type": "code",
      "execution_count": 11,
      "metadata": {
        "id": "nkIgl-gl27Mu"
      },
      "outputs": [],
      "source": [
        "X = df.drop(columns=['Name','National_Position', 'label'])\n",
        "y = df[\"label\"]\n"
      ]
    },
    {
      "cell_type": "code",
      "execution_count": 12,
      "metadata": {
        "id": "4v7MHYngH-tv"
      },
      "outputs": [],
      "source": [
        "def agrupar_categorias(df, cols, min_freq=0.01):\n",
        "    df_copy = df.copy()\n",
        "    for col in cols:\n",
        "        freqs = df_copy[col].value_counts(normalize=True)\n",
        "        rare = freqs[freqs < min_freq].index\n",
        "        df_copy[col] = df_copy[col].replace(rare, \"Otros\")\n",
        "    return df_copy"
      ]
    },
    {
      "cell_type": "code",
      "execution_count": 13,
      "metadata": {},
      "outputs": [
        {
          "data": {
            "text/plain": [
              "Nationality       160\n",
              "Club_Position      29\n",
              "Preffered_Foot      2\n",
              "Work_Rate           9\n",
              "dtype: int64"
            ]
          },
          "execution_count": 13,
          "metadata": {},
          "output_type": "execute_result"
        }
      ],
      "source": [
        "X.select_dtypes(include=['object']).nunique()"
      ]
    },
    {
      "cell_type": "code",
      "execution_count": 14,
      "metadata": {
        "id": "ZkSKr4lMIGIr"
      },
      "outputs": [],
      "source": [
        "# seleccion de variable numéricas y categóricas\n",
        "num_cols = X.select_dtypes(include=[\"number\"]).columns.tolist()\n",
        "cat_cols = X.select_dtypes(include=[\"object\", \"category\"]).columns.tolist()\n",
        "\n",
        "\n",
        "# agrupación\n",
        "X = agrupar_categorias(X, cat_cols, min_freq=0.01)\n",
        "\n",
        "\n",
        "numeric_pipeline = Pipeline(steps=[\n",
        "    (\"imputer\", SimpleImputer(strategy=\"median\")),\n",
        "    (\"scaler\", StandardScaler())\n",
        "])\n",
        "\n",
        "categorical_pipeline = Pipeline(steps=[\n",
        "    (\"imputer\", SimpleImputer(strategy=\"most_frequent\")),\n",
        "    (\"onehot\", OneHotEncoder())\n",
        "])\n",
        "\n",
        "# Construcción column transformer\n",
        "\n",
        "col_transformer = ColumnTransformer(transformers=[(\"num\", numeric_pipeline, num_cols),\n",
        "                                                  (\"cat\", categorical_pipeline, cat_cols)\n",
        "                                                  ],\n",
        "                                    remainder=\"passthrough\"\n",
        ")"
      ]
    },
    {
      "cell_type": "code",
      "execution_count": 15,
      "metadata": {},
      "outputs": [
        {
          "data": {
            "text/plain": [
              "Nationality       29\n",
              "Club_Position     18\n",
              "Preffered_Foot     2\n",
              "Work_Rate          9\n",
              "dtype: int64"
            ]
          },
          "execution_count": 15,
          "metadata": {},
          "output_type": "execute_result"
        }
      ],
      "source": [
        "X.select_dtypes(include=['object']).nunique()"
      ]
    },
    {
      "cell_type": "markdown",
      "metadata": {
        "id": "OS0wM16V2-2J"
      },
      "source": [
        "**1.1.4 Rta/** Aunque no hubo missing values en variables numéricas, se observan distribuciones sesgadas. Por esta razón, en caso de contar con un nuevo dataframe que incluya valores faltantes, el transformador los imputa con la mediana (robusta ante este tipo de distribuciones y outliers); además aplica StandardScaler (media 0 varianza 1) ya que hay atributos en rangos distintos y conviene escalar debido a que existen modelos sensibles a la magnitud.\n",
        "\n",
        "En el caso de variables numéricas se utilizó imputación con la moda (valor más frecuente) para manejar nulos y OneHotEncoder, cuyas categorías previamente fueron unificadas con la función definida inicialmente."
      ]
    },
    {
      "cell_type": "markdown",
      "metadata": {
        "id": "Bv1HOfcNEPF4"
      },
      "source": [
        "### 1.2 Entrenamiento [3 puntos]"
      ]
    },
    {
      "cell_type": "markdown",
      "metadata": {
        "id": "whPkuXTUBvB0"
      },
      "source": [
        "Ahora, vamos a entrenar los pipelines generados en los pasos anteriores. Para esto, debe realizar las siguientes tareas:\n",
        "\n",
        "1. Separe los datos de entrenamiento en un conjunto de entrenamiento y de prueba  (la proporción queda a su juicio). En este paso, seleccione los ejemplos de forma aleatoria e intente mantener la distribución original de labels de cada clase en los conjuntos de prueba/entrenamiento. (vea la documentación de `train_test_split`). [1 puntos]\n",
        "\n",
        "\n",
        "2. Defina un pipeline llamado `pipeline_xgboost` y otro llamado `pipeline_lightgbm`. Estos pipelines deben tener el mismo ColumnTransformer definido en la sección de preprocesamiento, pero deben variar los clasificadores de acuerdo al nombre de cada pipeline. [1 puntos]\n",
        "\n",
        "3. Entrene los pipelines. [1 punto]\n",
        "\n"
      ]
    },
    {
      "cell_type": "markdown",
      "metadata": {
        "id": "kbadONFtjGnE"
      },
      "source": [
        "**Respuesta:**"
      ]
    },
    {
      "cell_type": "code",
      "execution_count": 16,
      "metadata": {
        "colab": {
          "base_uri": "https://localhost:8080/"
        },
        "id": "lLtlXGTPdWAV",
        "outputId": "397cebb1-a8e8-4f82-a37c-84f2d65b2cc3"
      },
      "outputs": [
        {
          "name": "stdout",
          "output_type": "stream",
          "text": [
            "Distribución y_train:\n",
            "label\n",
            "0    0.939\n",
            "1    0.061\n",
            "Name: proportion, dtype: float64\n",
            "Distribución y_test:\n",
            "label\n",
            "0    0.939\n",
            "1    0.061\n",
            "Name: proportion, dtype: float64\n"
          ]
        }
      ],
      "source": [
        "# 1.2.1 — Train y test con estratificación\n",
        "from sklearn.model_selection import train_test_split\n",
        "\n",
        "X_train, X_test, y_train, y_test = train_test_split(\n",
        "    X, y, test_size=0.3, random_state=42, stratify=y)\n",
        "\n",
        "print(\"Distribución y_train:\")\n",
        "print(y_train.value_counts(normalize=True).round(3))\n",
        "print(\"Distribución y_test:\")\n",
        "print(y_test.value_counts(normalize=True).round(3))"
      ]
    },
    {
      "cell_type": "markdown",
      "metadata": {
        "id": "m55x4RILh8tb"
      },
      "source": [
        "**1.2.1 Rta/** Utilizar un 30% para prueba es aporximadamente 5,300 muestras, lo cual permite evaluar el modelo con suficiente representatividad. Además, el valor por defecto que viene en la función train_test_split del modulo de sklearn.model_selection es 0.25, lo cual es muy cercano a la proporción utilizada. Las proporciones del Label se mantienen tanto en train como test."
      ]
    },
    {
      "cell_type": "code",
      "execution_count": 17,
      "metadata": {
        "colab": {
          "base_uri": "https://localhost:8080/"
        },
        "id": "4MMl3dRMjVW3",
        "outputId": "21486b0b-c753-4155-97b5-8ed06e1520f3"
      },
      "outputs": [
        {
          "name": "stdout",
          "output_type": "stream",
          "text": [
            "15.371010638297872\n"
          ]
        }
      ],
      "source": [
        "# Ratio para desbalance\n",
        "clase_0 = (y_train == 0).sum()\n",
        "clase_1 = (y_train == 1).sum()\n",
        "peso = clase_0 / clase_1 if clase_1 > 0 else 1.0\n",
        "print(peso)"
      ]
    },
    {
      "cell_type": "code",
      "execution_count": 18,
      "metadata": {
        "id": "kS1xWa9cjbUG"
      },
      "outputs": [],
      "source": [
        "from sklearn.pipeline import Pipeline\n",
        "\n",
        "# XGBoost\n",
        "from xgboost import XGBClassifier\n",
        "\n",
        "pipeline_xgboost = Pipeline(steps=[(\"prep\", col_transformer),\n",
        "                                   (\"clf\", XGBClassifier(eval_metric=\"logloss\", random_state=42, scale_pos_weight=peso ))])\n",
        "\n",
        "# LightGBM\n",
        "from lightgbm import LGBMClassifier\n",
        "\n",
        "pipeline_lightgbm = Pipeline(steps=[(\"prep\", col_transformer),\n",
        "                                    (\"clf\", LGBMClassifier(verbose=-1, scale_pos_weight=peso ))\n",
        "])"
      ]
    },
    {
      "cell_type": "code",
      "execution_count": 19,
      "metadata": {
        "colab": {
          "base_uri": "https://localhost:8080/",
          "height": 287
        },
        "id": "0D6tcUVnQK-Z",
        "outputId": "182fcf1c-fbf0-458e-9e85-9560bb986212"
      },
      "outputs": [
        {
          "data": {
            "text/html": [
              "<style>#sk-container-id-1 {\n",
              "  /* Definition of color scheme common for light and dark mode */\n",
              "  --sklearn-color-text: black;\n",
              "  --sklearn-color-line: gray;\n",
              "  /* Definition of color scheme for unfitted estimators */\n",
              "  --sklearn-color-unfitted-level-0: #fff5e6;\n",
              "  --sklearn-color-unfitted-level-1: #f6e4d2;\n",
              "  --sklearn-color-unfitted-level-2: #ffe0b3;\n",
              "  --sklearn-color-unfitted-level-3: chocolate;\n",
              "  /* Definition of color scheme for fitted estimators */\n",
              "  --sklearn-color-fitted-level-0: #f0f8ff;\n",
              "  --sklearn-color-fitted-level-1: #d4ebff;\n",
              "  --sklearn-color-fitted-level-2: #b3dbfd;\n",
              "  --sklearn-color-fitted-level-3: cornflowerblue;\n",
              "\n",
              "  /* Specific color for light theme */\n",
              "  --sklearn-color-text-on-default-background: var(--sg-text-color, var(--theme-code-foreground, var(--jp-content-font-color1, black)));\n",
              "  --sklearn-color-background: var(--sg-background-color, var(--theme-background, var(--jp-layout-color0, white)));\n",
              "  --sklearn-color-border-box: var(--sg-text-color, var(--theme-code-foreground, var(--jp-content-font-color1, black)));\n",
              "  --sklearn-color-icon: #696969;\n",
              "\n",
              "  @media (prefers-color-scheme: dark) {\n",
              "    /* Redefinition of color scheme for dark theme */\n",
              "    --sklearn-color-text-on-default-background: var(--sg-text-color, var(--theme-code-foreground, var(--jp-content-font-color1, white)));\n",
              "    --sklearn-color-background: var(--sg-background-color, var(--theme-background, var(--jp-layout-color0, #111)));\n",
              "    --sklearn-color-border-box: var(--sg-text-color, var(--theme-code-foreground, var(--jp-content-font-color1, white)));\n",
              "    --sklearn-color-icon: #878787;\n",
              "  }\n",
              "}\n",
              "\n",
              "#sk-container-id-1 {\n",
              "  color: var(--sklearn-color-text);\n",
              "}\n",
              "\n",
              "#sk-container-id-1 pre {\n",
              "  padding: 0;\n",
              "}\n",
              "\n",
              "#sk-container-id-1 input.sk-hidden--visually {\n",
              "  border: 0;\n",
              "  clip: rect(1px 1px 1px 1px);\n",
              "  clip: rect(1px, 1px, 1px, 1px);\n",
              "  height: 1px;\n",
              "  margin: -1px;\n",
              "  overflow: hidden;\n",
              "  padding: 0;\n",
              "  position: absolute;\n",
              "  width: 1px;\n",
              "}\n",
              "\n",
              "#sk-container-id-1 div.sk-dashed-wrapped {\n",
              "  border: 1px dashed var(--sklearn-color-line);\n",
              "  margin: 0 0.4em 0.5em 0.4em;\n",
              "  box-sizing: border-box;\n",
              "  padding-bottom: 0.4em;\n",
              "  background-color: var(--sklearn-color-background);\n",
              "}\n",
              "\n",
              "#sk-container-id-1 div.sk-container {\n",
              "  /* jupyter's `normalize.less` sets `[hidden] { display: none; }`\n",
              "     but bootstrap.min.css set `[hidden] { display: none !important; }`\n",
              "     so we also need the `!important` here to be able to override the\n",
              "     default hidden behavior on the sphinx rendered scikit-learn.org.\n",
              "     See: https://github.com/scikit-learn/scikit-learn/issues/21755 */\n",
              "  display: inline-block !important;\n",
              "  position: relative;\n",
              "}\n",
              "\n",
              "#sk-container-id-1 div.sk-text-repr-fallback {\n",
              "  display: none;\n",
              "}\n",
              "\n",
              "div.sk-parallel-item,\n",
              "div.sk-serial,\n",
              "div.sk-item {\n",
              "  /* draw centered vertical line to link estimators */\n",
              "  background-image: linear-gradient(var(--sklearn-color-text-on-default-background), var(--sklearn-color-text-on-default-background));\n",
              "  background-size: 2px 100%;\n",
              "  background-repeat: no-repeat;\n",
              "  background-position: center center;\n",
              "}\n",
              "\n",
              "/* Parallel-specific style estimator block */\n",
              "\n",
              "#sk-container-id-1 div.sk-parallel-item::after {\n",
              "  content: \"\";\n",
              "  width: 100%;\n",
              "  border-bottom: 2px solid var(--sklearn-color-text-on-default-background);\n",
              "  flex-grow: 1;\n",
              "}\n",
              "\n",
              "#sk-container-id-1 div.sk-parallel {\n",
              "  display: flex;\n",
              "  align-items: stretch;\n",
              "  justify-content: center;\n",
              "  background-color: var(--sklearn-color-background);\n",
              "  position: relative;\n",
              "}\n",
              "\n",
              "#sk-container-id-1 div.sk-parallel-item {\n",
              "  display: flex;\n",
              "  flex-direction: column;\n",
              "}\n",
              "\n",
              "#sk-container-id-1 div.sk-parallel-item:first-child::after {\n",
              "  align-self: flex-end;\n",
              "  width: 50%;\n",
              "}\n",
              "\n",
              "#sk-container-id-1 div.sk-parallel-item:last-child::after {\n",
              "  align-self: flex-start;\n",
              "  width: 50%;\n",
              "}\n",
              "\n",
              "#sk-container-id-1 div.sk-parallel-item:only-child::after {\n",
              "  width: 0;\n",
              "}\n",
              "\n",
              "/* Serial-specific style estimator block */\n",
              "\n",
              "#sk-container-id-1 div.sk-serial {\n",
              "  display: flex;\n",
              "  flex-direction: column;\n",
              "  align-items: center;\n",
              "  background-color: var(--sklearn-color-background);\n",
              "  padding-right: 1em;\n",
              "  padding-left: 1em;\n",
              "}\n",
              "\n",
              "\n",
              "/* Toggleable style: style used for estimator/Pipeline/ColumnTransformer box that is\n",
              "clickable and can be expanded/collapsed.\n",
              "- Pipeline and ColumnTransformer use this feature and define the default style\n",
              "- Estimators will overwrite some part of the style using the `sk-estimator` class\n",
              "*/\n",
              "\n",
              "/* Pipeline and ColumnTransformer style (default) */\n",
              "\n",
              "#sk-container-id-1 div.sk-toggleable {\n",
              "  /* Default theme specific background. It is overwritten whether we have a\n",
              "  specific estimator or a Pipeline/ColumnTransformer */\n",
              "  background-color: var(--sklearn-color-background);\n",
              "}\n",
              "\n",
              "/* Toggleable label */\n",
              "#sk-container-id-1 label.sk-toggleable__label {\n",
              "  cursor: pointer;\n",
              "  display: block;\n",
              "  width: 100%;\n",
              "  margin-bottom: 0;\n",
              "  padding: 0.5em;\n",
              "  box-sizing: border-box;\n",
              "  text-align: center;\n",
              "}\n",
              "\n",
              "#sk-container-id-1 label.sk-toggleable__label-arrow:before {\n",
              "  /* Arrow on the left of the label */\n",
              "  content: \"▸\";\n",
              "  float: left;\n",
              "  margin-right: 0.25em;\n",
              "  color: var(--sklearn-color-icon);\n",
              "}\n",
              "\n",
              "#sk-container-id-1 label.sk-toggleable__label-arrow:hover:before {\n",
              "  color: var(--sklearn-color-text);\n",
              "}\n",
              "\n",
              "/* Toggleable content - dropdown */\n",
              "\n",
              "#sk-container-id-1 div.sk-toggleable__content {\n",
              "  max-height: 0;\n",
              "  max-width: 0;\n",
              "  overflow: hidden;\n",
              "  text-align: left;\n",
              "  /* unfitted */\n",
              "  background-color: var(--sklearn-color-unfitted-level-0);\n",
              "}\n",
              "\n",
              "#sk-container-id-1 div.sk-toggleable__content.fitted {\n",
              "  /* fitted */\n",
              "  background-color: var(--sklearn-color-fitted-level-0);\n",
              "}\n",
              "\n",
              "#sk-container-id-1 div.sk-toggleable__content pre {\n",
              "  margin: 0.2em;\n",
              "  border-radius: 0.25em;\n",
              "  color: var(--sklearn-color-text);\n",
              "  /* unfitted */\n",
              "  background-color: var(--sklearn-color-unfitted-level-0);\n",
              "}\n",
              "\n",
              "#sk-container-id-1 div.sk-toggleable__content.fitted pre {\n",
              "  /* unfitted */\n",
              "  background-color: var(--sklearn-color-fitted-level-0);\n",
              "}\n",
              "\n",
              "#sk-container-id-1 input.sk-toggleable__control:checked~div.sk-toggleable__content {\n",
              "  /* Expand drop-down */\n",
              "  max-height: 200px;\n",
              "  max-width: 100%;\n",
              "  overflow: auto;\n",
              "}\n",
              "\n",
              "#sk-container-id-1 input.sk-toggleable__control:checked~label.sk-toggleable__label-arrow:before {\n",
              "  content: \"▾\";\n",
              "}\n",
              "\n",
              "/* Pipeline/ColumnTransformer-specific style */\n",
              "\n",
              "#sk-container-id-1 div.sk-label input.sk-toggleable__control:checked~label.sk-toggleable__label {\n",
              "  color: var(--sklearn-color-text);\n",
              "  background-color: var(--sklearn-color-unfitted-level-2);\n",
              "}\n",
              "\n",
              "#sk-container-id-1 div.sk-label.fitted input.sk-toggleable__control:checked~label.sk-toggleable__label {\n",
              "  background-color: var(--sklearn-color-fitted-level-2);\n",
              "}\n",
              "\n",
              "/* Estimator-specific style */\n",
              "\n",
              "/* Colorize estimator box */\n",
              "#sk-container-id-1 div.sk-estimator input.sk-toggleable__control:checked~label.sk-toggleable__label {\n",
              "  /* unfitted */\n",
              "  background-color: var(--sklearn-color-unfitted-level-2);\n",
              "}\n",
              "\n",
              "#sk-container-id-1 div.sk-estimator.fitted input.sk-toggleable__control:checked~label.sk-toggleable__label {\n",
              "  /* fitted */\n",
              "  background-color: var(--sklearn-color-fitted-level-2);\n",
              "}\n",
              "\n",
              "#sk-container-id-1 div.sk-label label.sk-toggleable__label,\n",
              "#sk-container-id-1 div.sk-label label {\n",
              "  /* The background is the default theme color */\n",
              "  color: var(--sklearn-color-text-on-default-background);\n",
              "}\n",
              "\n",
              "/* On hover, darken the color of the background */\n",
              "#sk-container-id-1 div.sk-label:hover label.sk-toggleable__label {\n",
              "  color: var(--sklearn-color-text);\n",
              "  background-color: var(--sklearn-color-unfitted-level-2);\n",
              "}\n",
              "\n",
              "/* Label box, darken color on hover, fitted */\n",
              "#sk-container-id-1 div.sk-label.fitted:hover label.sk-toggleable__label.fitted {\n",
              "  color: var(--sklearn-color-text);\n",
              "  background-color: var(--sklearn-color-fitted-level-2);\n",
              "}\n",
              "\n",
              "/* Estimator label */\n",
              "\n",
              "#sk-container-id-1 div.sk-label label {\n",
              "  font-family: monospace;\n",
              "  font-weight: bold;\n",
              "  display: inline-block;\n",
              "  line-height: 1.2em;\n",
              "}\n",
              "\n",
              "#sk-container-id-1 div.sk-label-container {\n",
              "  text-align: center;\n",
              "}\n",
              "\n",
              "/* Estimator-specific */\n",
              "#sk-container-id-1 div.sk-estimator {\n",
              "  font-family: monospace;\n",
              "  border: 1px dotted var(--sklearn-color-border-box);\n",
              "  border-radius: 0.25em;\n",
              "  box-sizing: border-box;\n",
              "  margin-bottom: 0.5em;\n",
              "  /* unfitted */\n",
              "  background-color: var(--sklearn-color-unfitted-level-0);\n",
              "}\n",
              "\n",
              "#sk-container-id-1 div.sk-estimator.fitted {\n",
              "  /* fitted */\n",
              "  background-color: var(--sklearn-color-fitted-level-0);\n",
              "}\n",
              "\n",
              "/* on hover */\n",
              "#sk-container-id-1 div.sk-estimator:hover {\n",
              "  /* unfitted */\n",
              "  background-color: var(--sklearn-color-unfitted-level-2);\n",
              "}\n",
              "\n",
              "#sk-container-id-1 div.sk-estimator.fitted:hover {\n",
              "  /* fitted */\n",
              "  background-color: var(--sklearn-color-fitted-level-2);\n",
              "}\n",
              "\n",
              "/* Specification for estimator info (e.g. \"i\" and \"?\") */\n",
              "\n",
              "/* Common style for \"i\" and \"?\" */\n",
              "\n",
              ".sk-estimator-doc-link,\n",
              "a:link.sk-estimator-doc-link,\n",
              "a:visited.sk-estimator-doc-link {\n",
              "  float: right;\n",
              "  font-size: smaller;\n",
              "  line-height: 1em;\n",
              "  font-family: monospace;\n",
              "  background-color: var(--sklearn-color-background);\n",
              "  border-radius: 1em;\n",
              "  height: 1em;\n",
              "  width: 1em;\n",
              "  text-decoration: none !important;\n",
              "  margin-left: 1ex;\n",
              "  /* unfitted */\n",
              "  border: var(--sklearn-color-unfitted-level-1) 1pt solid;\n",
              "  color: var(--sklearn-color-unfitted-level-1);\n",
              "}\n",
              "\n",
              ".sk-estimator-doc-link.fitted,\n",
              "a:link.sk-estimator-doc-link.fitted,\n",
              "a:visited.sk-estimator-doc-link.fitted {\n",
              "  /* fitted */\n",
              "  border: var(--sklearn-color-fitted-level-1) 1pt solid;\n",
              "  color: var(--sklearn-color-fitted-level-1);\n",
              "}\n",
              "\n",
              "/* On hover */\n",
              "div.sk-estimator:hover .sk-estimator-doc-link:hover,\n",
              ".sk-estimator-doc-link:hover,\n",
              "div.sk-label-container:hover .sk-estimator-doc-link:hover,\n",
              ".sk-estimator-doc-link:hover {\n",
              "  /* unfitted */\n",
              "  background-color: var(--sklearn-color-unfitted-level-3);\n",
              "  color: var(--sklearn-color-background);\n",
              "  text-decoration: none;\n",
              "}\n",
              "\n",
              "div.sk-estimator.fitted:hover .sk-estimator-doc-link.fitted:hover,\n",
              ".sk-estimator-doc-link.fitted:hover,\n",
              "div.sk-label-container:hover .sk-estimator-doc-link.fitted:hover,\n",
              ".sk-estimator-doc-link.fitted:hover {\n",
              "  /* fitted */\n",
              "  background-color: var(--sklearn-color-fitted-level-3);\n",
              "  color: var(--sklearn-color-background);\n",
              "  text-decoration: none;\n",
              "}\n",
              "\n",
              "/* Span, style for the box shown on hovering the info icon */\n",
              ".sk-estimator-doc-link span {\n",
              "  display: none;\n",
              "  z-index: 9999;\n",
              "  position: relative;\n",
              "  font-weight: normal;\n",
              "  right: .2ex;\n",
              "  padding: .5ex;\n",
              "  margin: .5ex;\n",
              "  width: min-content;\n",
              "  min-width: 20ex;\n",
              "  max-width: 50ex;\n",
              "  color: var(--sklearn-color-text);\n",
              "  box-shadow: 2pt 2pt 4pt #999;\n",
              "  /* unfitted */\n",
              "  background: var(--sklearn-color-unfitted-level-0);\n",
              "  border: .5pt solid var(--sklearn-color-unfitted-level-3);\n",
              "}\n",
              "\n",
              ".sk-estimator-doc-link.fitted span {\n",
              "  /* fitted */\n",
              "  background: var(--sklearn-color-fitted-level-0);\n",
              "  border: var(--sklearn-color-fitted-level-3);\n",
              "}\n",
              "\n",
              ".sk-estimator-doc-link:hover span {\n",
              "  display: block;\n",
              "}\n",
              "\n",
              "/* \"?\"-specific style due to the `<a>` HTML tag */\n",
              "\n",
              "#sk-container-id-1 a.estimator_doc_link {\n",
              "  float: right;\n",
              "  font-size: 1rem;\n",
              "  line-height: 1em;\n",
              "  font-family: monospace;\n",
              "  background-color: var(--sklearn-color-background);\n",
              "  border-radius: 1rem;\n",
              "  height: 1rem;\n",
              "  width: 1rem;\n",
              "  text-decoration: none;\n",
              "  /* unfitted */\n",
              "  color: var(--sklearn-color-unfitted-level-1);\n",
              "  border: var(--sklearn-color-unfitted-level-1) 1pt solid;\n",
              "}\n",
              "\n",
              "#sk-container-id-1 a.estimator_doc_link.fitted {\n",
              "  /* fitted */\n",
              "  border: var(--sklearn-color-fitted-level-1) 1pt solid;\n",
              "  color: var(--sklearn-color-fitted-level-1);\n",
              "}\n",
              "\n",
              "/* On hover */\n",
              "#sk-container-id-1 a.estimator_doc_link:hover {\n",
              "  /* unfitted */\n",
              "  background-color: var(--sklearn-color-unfitted-level-3);\n",
              "  color: var(--sklearn-color-background);\n",
              "  text-decoration: none;\n",
              "}\n",
              "\n",
              "#sk-container-id-1 a.estimator_doc_link.fitted:hover {\n",
              "  /* fitted */\n",
              "  background-color: var(--sklearn-color-fitted-level-3);\n",
              "}\n",
              "</style><div id=\"sk-container-id-1\" class=\"sk-top-container\"><div class=\"sk-text-repr-fallback\"><pre>Pipeline(steps=[(&#x27;prep&#x27;,\n",
              "                 ColumnTransformer(remainder=&#x27;passthrough&#x27;,\n",
              "                                   transformers=[(&#x27;num&#x27;,\n",
              "                                                  Pipeline(steps=[(&#x27;imputer&#x27;,\n",
              "                                                                   SimpleImputer(strategy=&#x27;median&#x27;)),\n",
              "                                                                  (&#x27;scaler&#x27;,\n",
              "                                                                   StandardScaler())]),\n",
              "                                                  [&#x27;Height&#x27;, &#x27;Weight&#x27;, &#x27;Age&#x27;,\n",
              "                                                   &#x27;Weak_foot&#x27;, &#x27;Skill_Moves&#x27;,\n",
              "                                                   &#x27;Ball_Control&#x27;, &#x27;Dribbling&#x27;,\n",
              "                                                   &#x27;Marking&#x27;, &#x27;Sliding_Tackle&#x27;,\n",
              "                                                   &#x27;Standing_Tackle&#x27;,\n",
              "                                                   &#x27;Aggression&#x27;, &#x27;Reactions&#x27;,\n",
              "                                                   &#x27;Interceptions&#x27;, &#x27;Vision&#x27;...\n",
              "                                                   &#x27;Stamina&#x27;, &#x27;Strength&#x27;,\n",
              "                                                   &#x27;Balance&#x27;, &#x27;Agility&#x27;,\n",
              "                                                   &#x27;Jumping&#x27;, &#x27;Heading&#x27;,\n",
              "                                                   &#x27;Shot_Power&#x27;, &#x27;Finishing&#x27;,\n",
              "                                                   &#x27;Long_Shots&#x27;, &#x27;Curve&#x27;, ...]),\n",
              "                                                 (&#x27;cat&#x27;,\n",
              "                                                  Pipeline(steps=[(&#x27;imputer&#x27;,\n",
              "                                                                   SimpleImputer(strategy=&#x27;most_frequent&#x27;)),\n",
              "                                                                  (&#x27;onehot&#x27;,\n",
              "                                                                   OneHotEncoder())]),\n",
              "                                                  [&#x27;Nationality&#x27;,\n",
              "                                                   &#x27;Club_Position&#x27;,\n",
              "                                                   &#x27;Preffered_Foot&#x27;,\n",
              "                                                   &#x27;Work_Rate&#x27;])])),\n",
              "                (&#x27;clf&#x27;,\n",
              "                 LGBMClassifier(scale_pos_weight=15.371010638297872,\n",
              "                                verbose=-1))])</pre><b>In a Jupyter environment, please rerun this cell to show the HTML representation or trust the notebook. <br />On GitHub, the HTML representation is unable to render, please try loading this page with nbviewer.org.</b></div><div class=\"sk-container\" hidden><div class=\"sk-item sk-dashed-wrapped\"><div class=\"sk-label-container\"><div class=\"sk-label fitted sk-toggleable\"><input class=\"sk-toggleable__control sk-hidden--visually\" id=\"sk-estimator-id-1\" type=\"checkbox\" ><label for=\"sk-estimator-id-1\" class=\"sk-toggleable__label fitted sk-toggleable__label-arrow fitted\">&nbsp;&nbsp;Pipeline<a class=\"sk-estimator-doc-link fitted\" rel=\"noreferrer\" target=\"_blank\" href=\"https://scikit-learn.org/1.4/modules/generated/sklearn.pipeline.Pipeline.html\">?<span>Documentation for Pipeline</span></a><span class=\"sk-estimator-doc-link fitted\">i<span>Fitted</span></span></label><div class=\"sk-toggleable__content fitted\"><pre>Pipeline(steps=[(&#x27;prep&#x27;,\n",
              "                 ColumnTransformer(remainder=&#x27;passthrough&#x27;,\n",
              "                                   transformers=[(&#x27;num&#x27;,\n",
              "                                                  Pipeline(steps=[(&#x27;imputer&#x27;,\n",
              "                                                                   SimpleImputer(strategy=&#x27;median&#x27;)),\n",
              "                                                                  (&#x27;scaler&#x27;,\n",
              "                                                                   StandardScaler())]),\n",
              "                                                  [&#x27;Height&#x27;, &#x27;Weight&#x27;, &#x27;Age&#x27;,\n",
              "                                                   &#x27;Weak_foot&#x27;, &#x27;Skill_Moves&#x27;,\n",
              "                                                   &#x27;Ball_Control&#x27;, &#x27;Dribbling&#x27;,\n",
              "                                                   &#x27;Marking&#x27;, &#x27;Sliding_Tackle&#x27;,\n",
              "                                                   &#x27;Standing_Tackle&#x27;,\n",
              "                                                   &#x27;Aggression&#x27;, &#x27;Reactions&#x27;,\n",
              "                                                   &#x27;Interceptions&#x27;, &#x27;Vision&#x27;...\n",
              "                                                   &#x27;Stamina&#x27;, &#x27;Strength&#x27;,\n",
              "                                                   &#x27;Balance&#x27;, &#x27;Agility&#x27;,\n",
              "                                                   &#x27;Jumping&#x27;, &#x27;Heading&#x27;,\n",
              "                                                   &#x27;Shot_Power&#x27;, &#x27;Finishing&#x27;,\n",
              "                                                   &#x27;Long_Shots&#x27;, &#x27;Curve&#x27;, ...]),\n",
              "                                                 (&#x27;cat&#x27;,\n",
              "                                                  Pipeline(steps=[(&#x27;imputer&#x27;,\n",
              "                                                                   SimpleImputer(strategy=&#x27;most_frequent&#x27;)),\n",
              "                                                                  (&#x27;onehot&#x27;,\n",
              "                                                                   OneHotEncoder())]),\n",
              "                                                  [&#x27;Nationality&#x27;,\n",
              "                                                   &#x27;Club_Position&#x27;,\n",
              "                                                   &#x27;Preffered_Foot&#x27;,\n",
              "                                                   &#x27;Work_Rate&#x27;])])),\n",
              "                (&#x27;clf&#x27;,\n",
              "                 LGBMClassifier(scale_pos_weight=15.371010638297872,\n",
              "                                verbose=-1))])</pre></div> </div></div><div class=\"sk-serial\"><div class=\"sk-item sk-dashed-wrapped\"><div class=\"sk-label-container\"><div class=\"sk-label fitted sk-toggleable\"><input class=\"sk-toggleable__control sk-hidden--visually\" id=\"sk-estimator-id-2\" type=\"checkbox\" ><label for=\"sk-estimator-id-2\" class=\"sk-toggleable__label fitted sk-toggleable__label-arrow fitted\">&nbsp;prep: ColumnTransformer<a class=\"sk-estimator-doc-link fitted\" rel=\"noreferrer\" target=\"_blank\" href=\"https://scikit-learn.org/1.4/modules/generated/sklearn.compose.ColumnTransformer.html\">?<span>Documentation for prep: ColumnTransformer</span></a></label><div class=\"sk-toggleable__content fitted\"><pre>ColumnTransformer(remainder=&#x27;passthrough&#x27;,\n",
              "                  transformers=[(&#x27;num&#x27;,\n",
              "                                 Pipeline(steps=[(&#x27;imputer&#x27;,\n",
              "                                                  SimpleImputer(strategy=&#x27;median&#x27;)),\n",
              "                                                 (&#x27;scaler&#x27;, StandardScaler())]),\n",
              "                                 [&#x27;Height&#x27;, &#x27;Weight&#x27;, &#x27;Age&#x27;, &#x27;Weak_foot&#x27;,\n",
              "                                  &#x27;Skill_Moves&#x27;, &#x27;Ball_Control&#x27;, &#x27;Dribbling&#x27;,\n",
              "                                  &#x27;Marking&#x27;, &#x27;Sliding_Tackle&#x27;,\n",
              "                                  &#x27;Standing_Tackle&#x27;, &#x27;Aggression&#x27;, &#x27;Reactions&#x27;,\n",
              "                                  &#x27;Interceptions&#x27;, &#x27;Vision&#x27;, &#x27;Composure&#x27;,\n",
              "                                  &#x27;Crossing&#x27;, &#x27;Short_Pass&#x27;, &#x27;Long_Pass&#x27;,\n",
              "                                  &#x27;Acceleration&#x27;, &#x27;Speed&#x27;, &#x27;Stamina&#x27;,\n",
              "                                  &#x27;Strength&#x27;, &#x27;Balance&#x27;, &#x27;Agility&#x27;, &#x27;Jumping&#x27;,\n",
              "                                  &#x27;Heading&#x27;, &#x27;Shot_Power&#x27;, &#x27;Finishing&#x27;,\n",
              "                                  &#x27;Long_Shots&#x27;, &#x27;Curve&#x27;, ...]),\n",
              "                                (&#x27;cat&#x27;,\n",
              "                                 Pipeline(steps=[(&#x27;imputer&#x27;,\n",
              "                                                  SimpleImputer(strategy=&#x27;most_frequent&#x27;)),\n",
              "                                                 (&#x27;onehot&#x27;, OneHotEncoder())]),\n",
              "                                 [&#x27;Nationality&#x27;, &#x27;Club_Position&#x27;,\n",
              "                                  &#x27;Preffered_Foot&#x27;, &#x27;Work_Rate&#x27;])])</pre></div> </div></div><div class=\"sk-parallel\"><div class=\"sk-parallel-item\"><div class=\"sk-item\"><div class=\"sk-label-container\"><div class=\"sk-label fitted sk-toggleable\"><input class=\"sk-toggleable__control sk-hidden--visually\" id=\"sk-estimator-id-3\" type=\"checkbox\" ><label for=\"sk-estimator-id-3\" class=\"sk-toggleable__label fitted sk-toggleable__label-arrow fitted\">num</label><div class=\"sk-toggleable__content fitted\"><pre>[&#x27;Height&#x27;, &#x27;Weight&#x27;, &#x27;Age&#x27;, &#x27;Weak_foot&#x27;, &#x27;Skill_Moves&#x27;, &#x27;Ball_Control&#x27;, &#x27;Dribbling&#x27;, &#x27;Marking&#x27;, &#x27;Sliding_Tackle&#x27;, &#x27;Standing_Tackle&#x27;, &#x27;Aggression&#x27;, &#x27;Reactions&#x27;, &#x27;Interceptions&#x27;, &#x27;Vision&#x27;, &#x27;Composure&#x27;, &#x27;Crossing&#x27;, &#x27;Short_Pass&#x27;, &#x27;Long_Pass&#x27;, &#x27;Acceleration&#x27;, &#x27;Speed&#x27;, &#x27;Stamina&#x27;, &#x27;Strength&#x27;, &#x27;Balance&#x27;, &#x27;Agility&#x27;, &#x27;Jumping&#x27;, &#x27;Heading&#x27;, &#x27;Shot_Power&#x27;, &#x27;Finishing&#x27;, &#x27;Long_Shots&#x27;, &#x27;Curve&#x27;, &#x27;Freekick_Accuracy&#x27;, &#x27;Penalties&#x27;, &#x27;Volleys&#x27;]</pre></div> </div></div><div class=\"sk-serial\"><div class=\"sk-item\"><div class=\"sk-serial\"><div class=\"sk-item\"><div class=\"sk-estimator fitted sk-toggleable\"><input class=\"sk-toggleable__control sk-hidden--visually\" id=\"sk-estimator-id-4\" type=\"checkbox\" ><label for=\"sk-estimator-id-4\" class=\"sk-toggleable__label fitted sk-toggleable__label-arrow fitted\">&nbsp;SimpleImputer<a class=\"sk-estimator-doc-link fitted\" rel=\"noreferrer\" target=\"_blank\" href=\"https://scikit-learn.org/1.4/modules/generated/sklearn.impute.SimpleImputer.html\">?<span>Documentation for SimpleImputer</span></a></label><div class=\"sk-toggleable__content fitted\"><pre>SimpleImputer(strategy=&#x27;median&#x27;)</pre></div> </div></div><div class=\"sk-item\"><div class=\"sk-estimator fitted sk-toggleable\"><input class=\"sk-toggleable__control sk-hidden--visually\" id=\"sk-estimator-id-5\" type=\"checkbox\" ><label for=\"sk-estimator-id-5\" class=\"sk-toggleable__label fitted sk-toggleable__label-arrow fitted\">&nbsp;StandardScaler<a class=\"sk-estimator-doc-link fitted\" rel=\"noreferrer\" target=\"_blank\" href=\"https://scikit-learn.org/1.4/modules/generated/sklearn.preprocessing.StandardScaler.html\">?<span>Documentation for StandardScaler</span></a></label><div class=\"sk-toggleable__content fitted\"><pre>StandardScaler()</pre></div> </div></div></div></div></div></div></div><div class=\"sk-parallel-item\"><div class=\"sk-item\"><div class=\"sk-label-container\"><div class=\"sk-label fitted sk-toggleable\"><input class=\"sk-toggleable__control sk-hidden--visually\" id=\"sk-estimator-id-6\" type=\"checkbox\" ><label for=\"sk-estimator-id-6\" class=\"sk-toggleable__label fitted sk-toggleable__label-arrow fitted\">cat</label><div class=\"sk-toggleable__content fitted\"><pre>[&#x27;Nationality&#x27;, &#x27;Club_Position&#x27;, &#x27;Preffered_Foot&#x27;, &#x27;Work_Rate&#x27;]</pre></div> </div></div><div class=\"sk-serial\"><div class=\"sk-item\"><div class=\"sk-serial\"><div class=\"sk-item\"><div class=\"sk-estimator fitted sk-toggleable\"><input class=\"sk-toggleable__control sk-hidden--visually\" id=\"sk-estimator-id-7\" type=\"checkbox\" ><label for=\"sk-estimator-id-7\" class=\"sk-toggleable__label fitted sk-toggleable__label-arrow fitted\">&nbsp;SimpleImputer<a class=\"sk-estimator-doc-link fitted\" rel=\"noreferrer\" target=\"_blank\" href=\"https://scikit-learn.org/1.4/modules/generated/sklearn.impute.SimpleImputer.html\">?<span>Documentation for SimpleImputer</span></a></label><div class=\"sk-toggleable__content fitted\"><pre>SimpleImputer(strategy=&#x27;most_frequent&#x27;)</pre></div> </div></div><div class=\"sk-item\"><div class=\"sk-estimator fitted sk-toggleable\"><input class=\"sk-toggleable__control sk-hidden--visually\" id=\"sk-estimator-id-8\" type=\"checkbox\" ><label for=\"sk-estimator-id-8\" class=\"sk-toggleable__label fitted sk-toggleable__label-arrow fitted\">&nbsp;OneHotEncoder<a class=\"sk-estimator-doc-link fitted\" rel=\"noreferrer\" target=\"_blank\" href=\"https://scikit-learn.org/1.4/modules/generated/sklearn.preprocessing.OneHotEncoder.html\">?<span>Documentation for OneHotEncoder</span></a></label><div class=\"sk-toggleable__content fitted\"><pre>OneHotEncoder()</pre></div> </div></div></div></div></div></div></div><div class=\"sk-parallel-item\"><div class=\"sk-item\"><div class=\"sk-label-container\"><div class=\"sk-label fitted sk-toggleable\"><input class=\"sk-toggleable__control sk-hidden--visually\" id=\"sk-estimator-id-9\" type=\"checkbox\" ><label for=\"sk-estimator-id-9\" class=\"sk-toggleable__label fitted sk-toggleable__label-arrow fitted\">remainder</label><div class=\"sk-toggleable__content fitted\"><pre>[]</pre></div> </div></div><div class=\"sk-serial\"><div class=\"sk-item\"><div class=\"sk-estimator fitted sk-toggleable\"><input class=\"sk-toggleable__control sk-hidden--visually\" id=\"sk-estimator-id-10\" type=\"checkbox\" ><label for=\"sk-estimator-id-10\" class=\"sk-toggleable__label fitted sk-toggleable__label-arrow fitted\">passthrough</label><div class=\"sk-toggleable__content fitted\"><pre>passthrough</pre></div> </div></div></div></div></div></div></div><div class=\"sk-item\"><div class=\"sk-estimator fitted sk-toggleable\"><input class=\"sk-toggleable__control sk-hidden--visually\" id=\"sk-estimator-id-11\" type=\"checkbox\" ><label for=\"sk-estimator-id-11\" class=\"sk-toggleable__label fitted sk-toggleable__label-arrow fitted\">LGBMClassifier</label><div class=\"sk-toggleable__content fitted\"><pre>LGBMClassifier(scale_pos_weight=15.371010638297872, verbose=-1)</pre></div> </div></div></div></div></div></div>"
            ],
            "text/plain": [
              "Pipeline(steps=[('prep',\n",
              "                 ColumnTransformer(remainder='passthrough',\n",
              "                                   transformers=[('num',\n",
              "                                                  Pipeline(steps=[('imputer',\n",
              "                                                                   SimpleImputer(strategy='median')),\n",
              "                                                                  ('scaler',\n",
              "                                                                   StandardScaler())]),\n",
              "                                                  ['Height', 'Weight', 'Age',\n",
              "                                                   'Weak_foot', 'Skill_Moves',\n",
              "                                                   'Ball_Control', 'Dribbling',\n",
              "                                                   'Marking', 'Sliding_Tackle',\n",
              "                                                   'Standing_Tackle',\n",
              "                                                   'Aggression', 'Reactions',\n",
              "                                                   'Interceptions', 'Vision'...\n",
              "                                                   'Stamina', 'Strength',\n",
              "                                                   'Balance', 'Agility',\n",
              "                                                   'Jumping', 'Heading',\n",
              "                                                   'Shot_Power', 'Finishing',\n",
              "                                                   'Long_Shots', 'Curve', ...]),\n",
              "                                                 ('cat',\n",
              "                                                  Pipeline(steps=[('imputer',\n",
              "                                                                   SimpleImputer(strategy='most_frequent')),\n",
              "                                                                  ('onehot',\n",
              "                                                                   OneHotEncoder())]),\n",
              "                                                  ['Nationality',\n",
              "                                                   'Club_Position',\n",
              "                                                   'Preffered_Foot',\n",
              "                                                   'Work_Rate'])])),\n",
              "                ('clf',\n",
              "                 LGBMClassifier(scale_pos_weight=15.371010638297872,\n",
              "                                verbose=-1))])"
            ]
          },
          "execution_count": 19,
          "metadata": {},
          "output_type": "execute_result"
        }
      ],
      "source": [
        "pipeline_xgboost.fit(X_train, y_train)\n",
        "pipeline_lightgbm.fit(X_train, y_train)"
      ]
    },
    {
      "cell_type": "markdown",
      "metadata": {
        "id": "poc9HSNBFeKO"
      },
      "source": [
        "### 1.3 Resultados [6 puntos]"
      ]
    },
    {
      "cell_type": "markdown",
      "metadata": {
        "id": "tGGCj8YtFil1"
      },
      "source": [
        "1. Calcule las métricas accuracy, precisión y recall de la clase positiva (la que indica que un jugador es seleccionado nacional) para evaluar el rendimiento de los distintos modelos. Verifique sus resultados usando `classification_report`. [2 puntos]\n",
        "\n",
        "2. Explique qué implican los valores de accuracy, precisión y recall de la clase positiva (la que indica que un jugador es seleccionado nacional) y cómo influye la cantidad de ejemplos por clase en los resultados obtenidos. [2 puntos]\n",
        "\n",
        "3. Explique qué métrica le parece más adecuada y concluya qué modelo tiene un mejor desempeño. [2 puntos]"
      ]
    },
    {
      "cell_type": "markdown",
      "metadata": {
        "id": "A1hkVFdujJTi"
      },
      "source": [
        "**Respuesta:**"
      ]
    },
    {
      "cell_type": "code",
      "execution_count": 20,
      "metadata": {
        "colab": {
          "base_uri": "https://localhost:8080/"
        },
        "id": "QNmI_tbbdQte",
        "outputId": "e9ab85ce-8005-4e85-b657-3ed80c3d9070"
      },
      "outputs": [
        {
          "name": "stdout",
          "output_type": "stream",
          "text": [
            "Resultados XGBoost\n",
            "Accuracy:  0.930\n",
            "Precision: 0.433\n",
            "Recall:    0.477\n",
            "\n",
            "Classification Report XGB:\n",
            "              precision    recall  f1-score   support\n",
            "\n",
            "           0       0.97      0.96      0.96      4954\n",
            "           1       0.43      0.48      0.45       323\n",
            "\n",
            "    accuracy                           0.93      5277\n",
            "   macro avg       0.70      0.72      0.71      5277\n",
            "weighted avg       0.93      0.93      0.93      5277\n",
            "\n",
            "--------------------------------------------------\n",
            "Resultados LightGBM\n",
            "Accuracy:  0.914\n",
            "Precision: 0.388\n",
            "Recall:    0.715\n",
            "Classification Report LGBM:\n",
            "\n",
            "              precision    recall  f1-score   support\n",
            "\n",
            "           0       0.98      0.93      0.95      4954\n",
            "           1       0.39      0.72      0.50       323\n",
            "\n",
            "    accuracy                           0.91      5277\n",
            "   macro avg       0.68      0.82      0.73      5277\n",
            "weighted avg       0.94      0.91      0.93      5277\n",
            "\n"
          ]
        }
      ],
      "source": [
        "from sklearn.metrics import accuracy_score, precision_score, recall_score, classification_report\n",
        "\n",
        "# Predicciones\n",
        "y_pred_xgb = pipeline_xgboost.predict(X_test)\n",
        "y_pred_lgbm = pipeline_lightgbm.predict(X_test)\n",
        "\n",
        "# Accuracy\n",
        "acc_xgb = accuracy_score(y_test, y_pred_xgb)\n",
        "acc_lgbm = accuracy_score(y_test, y_pred_lgbm)\n",
        "\n",
        "# Precision y Recall (clase positiva = 1 : seleccionado nacional)\n",
        "prec_xgb = precision_score(y_test, y_pred_xgb, pos_label=1)\n",
        "rec_xgb  = recall_score(y_test, y_pred_xgb, pos_label=1)\n",
        "\n",
        "prec_lgbm = precision_score(y_test, y_pred_lgbm, pos_label=1)\n",
        "rec_lgbm  = recall_score(y_test, y_pred_lgbm, pos_label=1)\n",
        "\n",
        "print(\"Resultados XGBoost\")\n",
        "print(f\"Accuracy:  {acc_xgb:.3f}\")\n",
        "print(f\"Precision: {prec_xgb:.3f}\")\n",
        "print(f\"Recall:    {rec_xgb:.3f}\")\n",
        "print()\n",
        "print(\"Classification Report XGB:\")\n",
        "print(classification_report(y_test, y_pred_xgb))\n",
        "print(\"-\"*50)\n",
        "print(\"Resultados LightGBM\")\n",
        "print(f\"Accuracy:  {acc_lgbm:.3f}\")\n",
        "print(f\"Precision: {prec_lgbm:.3f}\")\n",
        "print(f\"Recall:    {rec_lgbm:.3f}\")\n",
        "print(\"Classification Report LGBM:\")\n",
        "print()\n",
        "print(classification_report(y_test, y_pred_lgbm))\n"
      ]
    },
    {
      "cell_type": "markdown",
      "metadata": {
        "id": "SVlNqJFrWg_9"
      },
      "source": [
        "**1.3.1** Para XGB se obtuvo un accuracy de 0.93, precisión (clase positiva): 0.43 y recall de 0.48. Estos resultados concuerdan con lo obtenido en el reporte.\n",
        "\n",
        "Por otro lado, para LightGBM se obtuvo accuracy de 0.914, precisión (clase positiva) de 0.388 y recall 0.715, lo cual es coherente con lo obtenido en el reporte.\n",
        "\n",
        "**1.3.2** Ambos modelos tienen un accuracy alto (mayor al 91 %) pero está afectado por el desbalance de clases, ya que la mayoría de jugadores no son seleccionados. Esto hace que dicha metrica no sea confiable en presencia de desbalance de clases.\n",
        "\n",
        "- XGBoost tiene mayor precisión en la clase positiva (43%), es decir, cuando predice que un jugador es seleccionado, se equivoca menos. Sin embargo, su recall es bajo (48%), dejando por fuera a más de la mitad de los jugadores de selección nacional reales.\n",
        "\n",
        "- LightGBM, a diferencia de XGBoost, tiene menos precisión (39%) pero un recall mucho más alto (72%), lo que significa que logra identificar a la mayoría de los seleccionados aunque comete más falsos positivos.\n",
        "\n",
        "**1.3.3** Como el interés es detectar jugadores que efectivamente sean seleccionados nacionales, es más importante reducir la tasa de jugadores que son clasificados como **No seleccionado nacional** cuando en realidad si lo son (FN) y podrían ser de interés para los directivos. Por eso, la métrica más adecuada es el recall de la clase positiva,y puede complementarse con F1 score.\n",
        "\n",
        "Según lo anterior, al priorizar recall, el mejor modelo es LightGBM (0.715 vs 0.480). Aunque su precisión es más baja, tiene más capacidad para detectar seleccionados nacionales."
      ]
    },
    {
      "cell_type": "markdown",
      "metadata": {
        "id": "uy5VMU6ae_g6"
      },
      "source": [
        "## 2. Predicción de posiciones de jugadores [4 puntos]"
      ]
    },
    {
      "cell_type": "markdown",
      "metadata": {
        "id": "S0PGg_hLgr4H"
      },
      "source": [
        "<p align=\"center\">\n",
        "  <img src=\"https://pbs.twimg.com/media/E1rfA1aWEAYU6Ny.jpg\" width=\"300\">\n",
        "</p>"
      ]
    },
    {
      "cell_type": "markdown",
      "metadata": {
        "id": "I6rSnAesfOm3"
      },
      "source": [
        "En una nueva jornada de desmesuradas transacciones deportivas, Renacín escuchó a sus colegas discutir acerca de que el precio de cada jugador depende en gran medida de la posición en la cancha en la que juega. Y además, que hay bastantes jugadores nuevos que no tienen muy claro en que posición verdaderamente brillarían, por lo que actualmente puede que actualmente estén jugando en posiciones sub-optimas.\n",
        "\n",
        "Viendo que los resultados del primer análisis no son tan esperanzadores, el corporeo los comanda a cambiar su tarea: ahora, les solicita que construyan un clasificador enfocado en predecir la mejor posición de los jugadores en la cancha según sus características.\n",
        "\n",
        "Para lograr esto, primero, les pide que etiqueten de la siguiente manera los valores que aparecen en el atributo `Club_Position`, pidiendo que agrupen los valores en los siguientes grupos:\n",
        "\n",
        "**Nota**:  Renacín les recalca que **no deben utilizar los valores ```Sub``` y ```Res``` de esta columna**.\n",
        "\n",
        "```python\n",
        "ataque = ['ST', 'CF']\n",
        "central_ataque = ['RW', 'CAM', 'LW']\n",
        "central = ['RM', 'CM', 'LM']\n",
        "central_defensa = ['RWB', 'CDM', 'LWB']\n",
        "defensa = ['RB', 'CB', 'LB']\n",
        "arquero = ['GK']\n",
        "```\n",
        "\n",
        "La elección del clasificador se justificar en base a la siguiente [guía](https://scikit-learn.org/stable/tutorial/machine_learning_map/index.html) y se deben comentar los resultados obtenidos en la clasificación.\n",
        "\n",
        "**Tareas:** [1 punto por tarea]\n",
        "\n",
        "1. En un nuevo dataframe, aplique las etiquetas descritas anteriormente en cada uno de los valores señalados en esta sección y guárdelos en la variable `label`.\n",
        "2. Cuente cuántos por clase quedan.\n",
        "3. Entrene el nuevo pipeline y ejecute una evaluación de este.  \n",
        "4. Comente los resultados obtenidos."
      ]
    },
    {
      "cell_type": "markdown",
      "metadata": {
        "id": "sBmSaWh8i2MI"
      },
      "source": [
        "**Respuesta:**"
      ]
    },
    {
      "cell_type": "code",
      "execution_count": 21,
      "metadata": {
        "colab": {
          "base_uri": "https://localhost:8080/"
        },
        "id": "0FUbmC-mgyc5",
        "outputId": "19263b61-e2a4-4c63-d536-4558911918c9"
      },
      "outputs": [
        {
          "name": "stdout",
          "output_type": "stream",
          "text": [
            "['LW' 'RW' 'ST' 'GK' 'Sub' 'RCM' 'CAM' 'LCB' 'LCM' 'RS' 'RB' 'RCB' 'LM'\n",
            " 'LDM' 'RM' 'LB' 'CDM' 'RDM' 'LF' 'CB' 'LAM' 'Res' 'CM' 'LS' 'RF' 'RWB'\n",
            " 'RAM' 'LWB' nan 'CF']\n",
            "30\n"
          ]
        }
      ],
      "source": [
        "print(df[\"Club_Position\"].unique())\n",
        "print(len(df[\"Club_Position\"].unique()))"
      ]
    },
    {
      "cell_type": "markdown",
      "metadata": {
        "id": "4GdbzHnjF1u-"
      },
      "source": [
        "**2.1. Aplicación de nuevas etiquetas**"
      ]
    },
    {
      "cell_type": "code",
      "execution_count": 22,
      "metadata": {
        "id": "Ir_7zMh2i1vg"
      },
      "outputs": [],
      "source": [
        "# 2.1 Asignación de las nuevas categorías\n",
        "pos_nuevas = {\n",
        "    \"ataque\": ['ST', 'CF'],\n",
        "    \"central_ataque\": ['RW', 'CAM', 'LW'],\n",
        "    \"central\": ['RM', 'CM', 'LM'],\n",
        "    \"central_defensa\": ['RWB', 'CDM', 'LWB'],\n",
        "    \"defensa\": ['RB', 'CB', 'LB'],\n",
        "    \"arquero\": ['GK']\n",
        "}\n",
        "\n",
        "mapeo = {}\n",
        "for categoria, posiciones in pos_nuevas.items():\n",
        "    for pos in posiciones:\n",
        "        mapeo[pos] = categoria\n",
        "\n",
        "# Definición del nuevo dataframe\n",
        "df_pos0 = df.copy()\n",
        "df_pos0 = df_pos0[(df_pos0[\"Club_Position\"] != \"Sub\") & (df_pos0[\"Club_Position\"] != \"Res\")]\n",
        "df_pos0[\"label\"] = df_pos0[\"Club_Position\"].map(mapeo)"
      ]
    },
    {
      "cell_type": "markdown",
      "metadata": {
        "id": "rao_9Rrvl2Wj"
      },
      "source": [
        "**2.2 Rta/** Por clase quedan:"
      ]
    },
    {
      "cell_type": "code",
      "execution_count": 23,
      "metadata": {
        "colab": {
          "base_uri": "https://localhost:8080/"
        },
        "id": "9ha7rv_-lzd_",
        "outputId": "063db380-86e6-4f30-b1ac-f832b6b53762"
      },
      "outputs": [
        {
          "name": "stdout",
          "output_type": "stream",
          "text": [
            "label\n",
            "defensa            1180\n",
            "central             907\n",
            "arquero             632\n",
            "central_ataque      581\n",
            "ataque              430\n",
            "central_defensa     209\n",
            "Name: count, dtype: int64\n"
          ]
        }
      ],
      "source": [
        "print(df_pos0[\"label\"].value_counts())"
      ]
    },
    {
      "cell_type": "markdown",
      "metadata": {
        "id": "6n7rQmeslTkP"
      },
      "source": [
        "Además, los que no quedaron en ninguna categoria suman:"
      ]
    },
    {
      "cell_type": "code",
      "execution_count": 24,
      "metadata": {
        "colab": {
          "base_uri": "https://localhost:8080/"
        },
        "id": "iNnguIpomB5A",
        "outputId": "6d0e1f17-bb93-4a2a-b04c-f98844110e08"
      },
      "outputs": [
        {
          "name": "stdout",
          "output_type": "stream",
          "text": [
            "3011\n"
          ]
        }
      ],
      "source": [
        "print(df_pos0[\"label\"].isna().sum())"
      ]
    },
    {
      "cell_type": "markdown",
      "metadata": {
        "id": "FwpMhqHEo-cg"
      },
      "source": [
        "De los 6950 observaciones, se trabajará con los datos que están etiquetados, es decir, se filtran aquellos jugadores sin las nuevas etiquetas:"
      ]
    },
    {
      "cell_type": "code",
      "execution_count": 25,
      "metadata": {
        "id": "xZEvO9yKpMrA"
      },
      "outputs": [],
      "source": [
        "df_pos = df_pos0[df_pos0[\"label\"].notna()]"
      ]
    },
    {
      "cell_type": "code",
      "execution_count": 26,
      "metadata": {
        "id": "R2Ezc-KSEuq3"
      },
      "outputs": [],
      "source": [
        "# Dejamos columnas que se necesitan\n",
        "X2 = df_pos.drop(columns=[\"label\", \"Club_Position\", \"National_Position\", \"Name\"], errors=\"ignore\") # eliminamos national position porque tiene muchos NA\n",
        "y2 = df_pos[\"label\"]\n",
        "\n",
        "X2 = agrupar_categorias(X2, X2.select_dtypes(include=[\"object\",\"category\"]).columns.tolist(), min_freq=0.01) # nuevamente agrupamos categorias pequeñas con la función creada\n"
      ]
    },
    {
      "cell_type": "code",
      "execution_count": 27,
      "metadata": {
        "id": "OcKjqauBDgk4"
      },
      "outputs": [],
      "source": [
        "num_cols2 = X2.select_dtypes(include=[\"number\"]).columns.tolist()\n",
        "cat_cols2 = X2.select_dtypes(include=[\"object\", \"category\"]).columns.tolist()\n",
        "\n",
        "\n",
        "numeric_pipeline2 = Pipeline([(\"imputer\", SimpleImputer(strategy=\"median\")),\n",
        "                              (\"scaler\", StandardScaler())\n",
        "])\n",
        "\n",
        "categorical_pipeline2 = Pipeline([(\"imputer\", SimpleImputer(strategy=\"most_frequent\")),\n",
        "                                  (\"onehot\", OneHotEncoder())\n",
        "])\n",
        "\n",
        "col_transformer_pos = ColumnTransformer(transformers=[(\"num\", numeric_pipeline2, num_cols2),\n",
        "                                                      (\"cat\", categorical_pipeline2, cat_cols2)\n",
        "                                                      ],\n",
        "                                        remainder=\"passthrough\"\n",
        ")"
      ]
    },
    {
      "cell_type": "markdown",
      "metadata": {
        "id": "vIsk9YiIFqzG"
      },
      "source": [
        "**2.3. Ejecución del nuevo Pipeline con el nuevo label multiclase**"
      ]
    },
    {
      "cell_type": "code",
      "execution_count": 28,
      "metadata": {
        "colab": {
          "base_uri": "https://localhost:8080/"
        },
        "id": "KnnDaeAjmFr2",
        "outputId": "867618b3-0da8-4964-87b2-cd304e085367"
      },
      "outputs": [
        {
          "name": "stdout",
          "output_type": "stream",
          "text": [
            "0.7563451776649747\n",
            "0.7401178110689948\n",
            "0.7563451776649747\n",
            "                 precision    recall  f1-score   support\n",
            "\n",
            "        arquero       1.00      1.00      1.00       126\n",
            "         ataque       0.74      0.84      0.79        86\n",
            "        central       0.62      0.60      0.61       182\n",
            " central_ataque       0.55      0.47      0.50       116\n",
            "central_defensa       0.43      0.24      0.31        42\n",
            "        defensa       0.84      0.95      0.89       236\n",
            "\n",
            "       accuracy                           0.76       788\n",
            "      macro avg       0.70      0.68      0.68       788\n",
            "   weighted avg       0.74      0.76      0.74       788\n",
            "\n"
          ]
        }
      ],
      "source": [
        "X2_train, X2_test, y2_train, y2_test = train_test_split(X2, y2, test_size=0.20, stratify=y2, random_state=42)\n",
        "\n",
        "pipeline_lightgbm_2 = Pipeline(steps=[(\"prep\", col_transformer_pos),\n",
        "                                      (\"clf\", LGBMClassifier(objective ='multiclass',\n",
        "                                                            random_state=42,\n",
        "                                                            class_weight ='balanced'))\n",
        "                                     ])\n",
        "\n",
        "# Entrenamiento\n",
        "pipeline_lightgbm_2.fit(X2_train, y2_train)\n",
        "\n",
        "# Predicciones\n",
        "y2_pred_lgbm = pipeline_lightgbm_2.predict(X2_test)\n",
        "\n",
        "acc_lgbm_2 = accuracy_score(y2_test, y2_pred_lgbm)\n",
        "prec_lgbm_2 = precision_score(y2_test, y2_pred_lgbm, average='weighted')\n",
        "rec_lgbm_2  = recall_score(y2_test, y2_pred_lgbm, average='weighted')\n",
        "\n",
        "print(acc_lgbm_2)\n",
        "print(prec_lgbm_2)\n",
        "print(rec_lgbm_2)\n",
        "print(classification_report(y2_test, y2_pred_lgbm))\n",
        "\n"
      ]
    },
    {
      "cell_type": "markdown",
      "metadata": {
        "id": "MSNMH2wrGlx9"
      },
      "source": [
        "**Rta/** El modelo LightGBM tuvo un accuracy global de 0.76, con buen desempeño en las clases como arquero (F1=1.00) y defensa (F1=0.89). Para la clase ataque, también tuvo un valor aceptable (F1=0.79), pero para las demás posiciones de central, tanto en ataque como defensa, no tuvo un buen desempeño, probablemente porque no había muchas observaciones o se parecìan entre si.\n",
        "\n",
        "Este ensemble, elegido de acuerdo con la guía, resulta siendo un clasificador con redimiento aceptable para las posiciones de arquero, defensa y ataque, pero no tiene mucha claridad para las posiciones de central."
      ]
    },
    {
      "cell_type": "markdown",
      "metadata": {
        "id": "9bL2m8nNojXM"
      },
      "source": [
        "## 3. Predicciones de Seleccionados Nacionales para el Jere Klein [30 puntos]"
      ]
    },
    {
      "cell_type": "markdown",
      "metadata": {
        "id": "_2XmRsJdsEh_"
      },
      "source": [
        "<center>\n",
        "<img src='https://www.radioactiva.cl/wp-content/uploads/2024/04/Jere-Klein-1-768x432.webp' width=500 />"
      ]
    },
    {
      "cell_type": "markdown",
      "metadata": {
        "id": "AgmUoVDsqUPu"
      },
      "source": [
        "Después de alcanzar la fama como cantante urbano, Jere Klein decide explorar una nueva faceta. Con su amor por el fútbol y convencido de que los artistas urbanos poseen un talento y versatilidad excepcionales, Jere se embarca en un proyecto innovador: desarrollar un sistema de inteligencia artificial capaz de identificar a jugadores que tienen potencial para convertirse en futbolistas profesionales. Su teoría es que muchos artistas del género urbano chileno, con sus habilidades únicas y su disciplina, podrían destacarse también en el deporte. Con este sistema, Jere espera no solo abrir nuevas oportunidades para sus colegas artistas, sino también demostrar la amplia gama de talentos que pueden ofrecer."
      ]
    },
    {
      "cell_type": "markdown",
      "metadata": {
        "id": "rD8pQ5Zfq8dE"
      },
      "source": [
        "### 2.1 ¿Qué modelo de árbol es más de \"pana\"? [10 puntos]"
      ]
    },
    {
      "cell_type": "markdown",
      "metadata": {
        "id": "zB-KUA4g99eo"
      },
      "source": [
        "<center>\n",
        "<img src='https://64.media.tumblr.com/39189215a7d3d96823cb359f35b44e05/tumblr_psmrhrR3Xw1qf5hjqo4_540.gif' width=300 />"
      ]
    },
    {
      "cell_type": "markdown",
      "metadata": {
        "id": "uL-moVhB9vPH"
      },
      "source": [
        "\n",
        "**Tareas**\n",
        "\n",
        "\n",
        "1. Considerando el la variable llamada `label` creada en la sección 1.1. Para determinar cuál modelo de árbol sería más adecuado para la tarea en cuestión, utilice PyCaret. Este deberá centrarse exclusivamente en modelos de tipo árbol. Jere ha especificado que busca un modelo que tome decisiones rápidamente y que tenga una baja tasa de falsos positivos, ya que planea invertir en estos jugadores. [3 puntos]\n",
        "\n",
        "Para la comparación, utilice los siguientes modelos:\n",
        "\n",
        "```python\n",
        "['et', 'rf', 'dt', 'xgboost', 'lightgbm', 'catboost']\n",
        "```\n",
        "\n",
        "2. Explique en brevemente que son los modelos de la siguiente lista `['et', 'rf', 'dt']` y como funcionan. [3 punto]\n",
        "\n",
        "3. Tras realizar la comparación de modelos, seleccione aquel que muestre el mejor rendimiento en términos de velocidad y precisión, especialmente en la reducción de falsos positivos. Utilice la función `evaluate_model` de PyCaret para revisar y analizar los resultados obtenidos en los siguientes aspectos:\n",
        "\n",
        "  - **Confusión Matrix**: ¿Cómo se encuentran la tasa de verdaderos positivos y verdaderos negativos?\n",
        "  - **Threshold**: ¿Es acaso el umbral por defecto del modelo el mejor para las predicciones?\n",
        "  - **Feature Importance**: ¿Cuáles son las variables con mejor desempeño? ¿A qué podría deberse esto?\n",
        "  - **Learning Curve**: ¿El modelo presenta algún problema?\n",
        "\n",
        "  [4 puntos]"
      ]
    },
    {
      "cell_type": "markdown",
      "metadata": {
        "id": "qY85nrViYROF"
      },
      "source": [
        "**Respuesta**"
      ]
    },
    {
      "cell_type": "markdown",
      "metadata": {},
      "source": [
        "**3.1.1. Comparación de modelos** "
      ]
    },
    {
      "cell_type": "code",
      "execution_count": 29,
      "metadata": {
        "colab": {
          "base_uri": "https://localhost:8080/",
          "height": 400
        },
        "id": "VrujNHpiehCP",
        "outputId": "d84e7acd-8e42-4bfb-90be-5c34adc8d213"
      },
      "outputs": [],
      "source": [
        "from pycaret.datasets import get_data\n",
        "from pycaret.classification import *\n",
        "import os\n",
        "\n",
        "os.environ[\"PYCARET_CUSTOM_LOGGING_LEVEL\"] = \"CRITICAL\""
      ]
    },
    {
      "cell_type": "code",
      "execution_count": 30,
      "metadata": {},
      "outputs": [
        {
          "data": {
            "text/plain": [
              "Index(['Name', 'Nationality', 'National_Position', 'Club_Position', 'Height',\n",
              "       'Weight', 'Preffered_Foot', 'Age', 'Work_Rate', 'Weak_foot',\n",
              "       'Skill_Moves', 'Ball_Control', 'Dribbling', 'Marking', 'Sliding_Tackle',\n",
              "       'Standing_Tackle', 'Aggression', 'Reactions', 'Interceptions', 'Vision',\n",
              "       'Composure', 'Crossing', 'Short_Pass', 'Long_Pass', 'Acceleration',\n",
              "       'Speed', 'Stamina', 'Strength', 'Balance', 'Agility', 'Jumping',\n",
              "       'Heading', 'Shot_Power', 'Finishing', 'Long_Shots', 'Curve',\n",
              "       'Freekick_Accuracy', 'Penalties', 'Volleys', 'label'],\n",
              "      dtype='object')"
            ]
          },
          "execution_count": 30,
          "metadata": {},
          "output_type": "execute_result"
        }
      ],
      "source": [
        "df.columns"
      ]
    },
    {
      "cell_type": "code",
      "execution_count": 31,
      "metadata": {},
      "outputs": [],
      "source": [
        "df = df.drop(columns=['Name','National_Position'])"
      ]
    },
    {
      "cell_type": "code",
      "execution_count": 32,
      "metadata": {},
      "outputs": [
        {
          "data": {
            "text/plain": [
              "label\n",
              "0    16513\n",
              "1     1075\n",
              "Name: count, dtype: int64"
            ]
          },
          "execution_count": 32,
          "metadata": {},
          "output_type": "execute_result"
        }
      ],
      "source": [
        "df['label'].value_counts()"
      ]
    },
    {
      "cell_type": "code",
      "execution_count": 33,
      "metadata": {},
      "outputs": [
        {
          "data": {
            "text/html": [
              "<style type=\"text/css\">\n",
              "#T_8ae44_row10_col1, #T_8ae44_row16_col1 {\n",
              "  background-color: lightgreen;\n",
              "}\n",
              "</style>\n",
              "<table id=\"T_8ae44\">\n",
              "  <thead>\n",
              "    <tr>\n",
              "      <th class=\"blank level0\" >&nbsp;</th>\n",
              "      <th id=\"T_8ae44_level0_col0\" class=\"col_heading level0 col0\" >Description</th>\n",
              "      <th id=\"T_8ae44_level0_col1\" class=\"col_heading level0 col1\" >Value</th>\n",
              "    </tr>\n",
              "  </thead>\n",
              "  <tbody>\n",
              "    <tr>\n",
              "      <th id=\"T_8ae44_level0_row0\" class=\"row_heading level0 row0\" >0</th>\n",
              "      <td id=\"T_8ae44_row0_col0\" class=\"data row0 col0\" >Session id</td>\n",
              "      <td id=\"T_8ae44_row0_col1\" class=\"data row0 col1\" >42</td>\n",
              "    </tr>\n",
              "    <tr>\n",
              "      <th id=\"T_8ae44_level0_row1\" class=\"row_heading level0 row1\" >1</th>\n",
              "      <td id=\"T_8ae44_row1_col0\" class=\"data row1 col0\" >Target</td>\n",
              "      <td id=\"T_8ae44_row1_col1\" class=\"data row1 col1\" >label</td>\n",
              "    </tr>\n",
              "    <tr>\n",
              "      <th id=\"T_8ae44_level0_row2\" class=\"row_heading level0 row2\" >2</th>\n",
              "      <td id=\"T_8ae44_row2_col0\" class=\"data row2 col0\" >Target type</td>\n",
              "      <td id=\"T_8ae44_row2_col1\" class=\"data row2 col1\" >Binary</td>\n",
              "    </tr>\n",
              "    <tr>\n",
              "      <th id=\"T_8ae44_level0_row3\" class=\"row_heading level0 row3\" >3</th>\n",
              "      <td id=\"T_8ae44_row3_col0\" class=\"data row3 col0\" >Original data shape</td>\n",
              "      <td id=\"T_8ae44_row3_col1\" class=\"data row3 col1\" >(17588, 38)</td>\n",
              "    </tr>\n",
              "    <tr>\n",
              "      <th id=\"T_8ae44_level0_row4\" class=\"row_heading level0 row4\" >4</th>\n",
              "      <td id=\"T_8ae44_row4_col0\" class=\"data row4 col0\" >Transformed data shape</td>\n",
              "      <td id=\"T_8ae44_row4_col1\" class=\"data row4 col1\" >(28395, 46)</td>\n",
              "    </tr>\n",
              "    <tr>\n",
              "      <th id=\"T_8ae44_level0_row5\" class=\"row_heading level0 row5\" >5</th>\n",
              "      <td id=\"T_8ae44_row5_col0\" class=\"data row5 col0\" >Transformed train set shape</td>\n",
              "      <td id=\"T_8ae44_row5_col1\" class=\"data row5 col1\" >(23118, 46)</td>\n",
              "    </tr>\n",
              "    <tr>\n",
              "      <th id=\"T_8ae44_level0_row6\" class=\"row_heading level0 row6\" >6</th>\n",
              "      <td id=\"T_8ae44_row6_col0\" class=\"data row6 col0\" >Transformed test set shape</td>\n",
              "      <td id=\"T_8ae44_row6_col1\" class=\"data row6 col1\" >(5277, 46)</td>\n",
              "    </tr>\n",
              "    <tr>\n",
              "      <th id=\"T_8ae44_level0_row7\" class=\"row_heading level0 row7\" >7</th>\n",
              "      <td id=\"T_8ae44_row7_col0\" class=\"data row7 col0\" >Numeric features</td>\n",
              "      <td id=\"T_8ae44_row7_col1\" class=\"data row7 col1\" >33</td>\n",
              "    </tr>\n",
              "    <tr>\n",
              "      <th id=\"T_8ae44_level0_row8\" class=\"row_heading level0 row8\" >8</th>\n",
              "      <td id=\"T_8ae44_row8_col0\" class=\"data row8 col0\" >Categorical features</td>\n",
              "      <td id=\"T_8ae44_row8_col1\" class=\"data row8 col1\" >4</td>\n",
              "    </tr>\n",
              "    <tr>\n",
              "      <th id=\"T_8ae44_level0_row9\" class=\"row_heading level0 row9\" >9</th>\n",
              "      <td id=\"T_8ae44_row9_col0\" class=\"data row9 col0\" >Rows with missing values</td>\n",
              "      <td id=\"T_8ae44_row9_col1\" class=\"data row9 col1\" >0.0%</td>\n",
              "    </tr>\n",
              "    <tr>\n",
              "      <th id=\"T_8ae44_level0_row10\" class=\"row_heading level0 row10\" >10</th>\n",
              "      <td id=\"T_8ae44_row10_col0\" class=\"data row10 col0\" >Preprocess</td>\n",
              "      <td id=\"T_8ae44_row10_col1\" class=\"data row10 col1\" >True</td>\n",
              "    </tr>\n",
              "    <tr>\n",
              "      <th id=\"T_8ae44_level0_row11\" class=\"row_heading level0 row11\" >11</th>\n",
              "      <td id=\"T_8ae44_row11_col0\" class=\"data row11 col0\" >Imputation type</td>\n",
              "      <td id=\"T_8ae44_row11_col1\" class=\"data row11 col1\" >simple</td>\n",
              "    </tr>\n",
              "    <tr>\n",
              "      <th id=\"T_8ae44_level0_row12\" class=\"row_heading level0 row12\" >12</th>\n",
              "      <td id=\"T_8ae44_row12_col0\" class=\"data row12 col0\" >Numeric imputation</td>\n",
              "      <td id=\"T_8ae44_row12_col1\" class=\"data row12 col1\" >mean</td>\n",
              "    </tr>\n",
              "    <tr>\n",
              "      <th id=\"T_8ae44_level0_row13\" class=\"row_heading level0 row13\" >13</th>\n",
              "      <td id=\"T_8ae44_row13_col0\" class=\"data row13 col0\" >Categorical imputation</td>\n",
              "      <td id=\"T_8ae44_row13_col1\" class=\"data row13 col1\" >mode</td>\n",
              "    </tr>\n",
              "    <tr>\n",
              "      <th id=\"T_8ae44_level0_row14\" class=\"row_heading level0 row14\" >14</th>\n",
              "      <td id=\"T_8ae44_row14_col0\" class=\"data row14 col0\" >Maximum one-hot encoding</td>\n",
              "      <td id=\"T_8ae44_row14_col1\" class=\"data row14 col1\" >25</td>\n",
              "    </tr>\n",
              "    <tr>\n",
              "      <th id=\"T_8ae44_level0_row15\" class=\"row_heading level0 row15\" >15</th>\n",
              "      <td id=\"T_8ae44_row15_col0\" class=\"data row15 col0\" >Encoding method</td>\n",
              "      <td id=\"T_8ae44_row15_col1\" class=\"data row15 col1\" >None</td>\n",
              "    </tr>\n",
              "    <tr>\n",
              "      <th id=\"T_8ae44_level0_row16\" class=\"row_heading level0 row16\" >16</th>\n",
              "      <td id=\"T_8ae44_row16_col0\" class=\"data row16 col0\" >Fix imbalance</td>\n",
              "      <td id=\"T_8ae44_row16_col1\" class=\"data row16 col1\" >True</td>\n",
              "    </tr>\n",
              "    <tr>\n",
              "      <th id=\"T_8ae44_level0_row17\" class=\"row_heading level0 row17\" >17</th>\n",
              "      <td id=\"T_8ae44_row17_col0\" class=\"data row17 col0\" >Fix imbalance method</td>\n",
              "      <td id=\"T_8ae44_row17_col1\" class=\"data row17 col1\" >SMOTE</td>\n",
              "    </tr>\n",
              "    <tr>\n",
              "      <th id=\"T_8ae44_level0_row18\" class=\"row_heading level0 row18\" >18</th>\n",
              "      <td id=\"T_8ae44_row18_col0\" class=\"data row18 col0\" >Fold Generator</td>\n",
              "      <td id=\"T_8ae44_row18_col1\" class=\"data row18 col1\" >StratifiedKFold</td>\n",
              "    </tr>\n",
              "    <tr>\n",
              "      <th id=\"T_8ae44_level0_row19\" class=\"row_heading level0 row19\" >19</th>\n",
              "      <td id=\"T_8ae44_row19_col0\" class=\"data row19 col0\" >Fold Number</td>\n",
              "      <td id=\"T_8ae44_row19_col1\" class=\"data row19 col1\" >5</td>\n",
              "    </tr>\n",
              "    <tr>\n",
              "      <th id=\"T_8ae44_level0_row20\" class=\"row_heading level0 row20\" >20</th>\n",
              "      <td id=\"T_8ae44_row20_col0\" class=\"data row20 col0\" >CPU Jobs</td>\n",
              "      <td id=\"T_8ae44_row20_col1\" class=\"data row20 col1\" >-1</td>\n",
              "    </tr>\n",
              "    <tr>\n",
              "      <th id=\"T_8ae44_level0_row21\" class=\"row_heading level0 row21\" >21</th>\n",
              "      <td id=\"T_8ae44_row21_col0\" class=\"data row21 col0\" >Use GPU</td>\n",
              "      <td id=\"T_8ae44_row21_col1\" class=\"data row21 col1\" >False</td>\n",
              "    </tr>\n",
              "    <tr>\n",
              "      <th id=\"T_8ae44_level0_row22\" class=\"row_heading level0 row22\" >22</th>\n",
              "      <td id=\"T_8ae44_row22_col0\" class=\"data row22 col0\" >Log Experiment</td>\n",
              "      <td id=\"T_8ae44_row22_col1\" class=\"data row22 col1\" >False</td>\n",
              "    </tr>\n",
              "    <tr>\n",
              "      <th id=\"T_8ae44_level0_row23\" class=\"row_heading level0 row23\" >23</th>\n",
              "      <td id=\"T_8ae44_row23_col0\" class=\"data row23 col0\" >Experiment Name</td>\n",
              "      <td id=\"T_8ae44_row23_col1\" class=\"data row23 col1\" >clf-default-name</td>\n",
              "    </tr>\n",
              "    <tr>\n",
              "      <th id=\"T_8ae44_level0_row24\" class=\"row_heading level0 row24\" >24</th>\n",
              "      <td id=\"T_8ae44_row24_col0\" class=\"data row24 col0\" >USI</td>\n",
              "      <td id=\"T_8ae44_row24_col1\" class=\"data row24 col1\" >99b2</td>\n",
              "    </tr>\n",
              "  </tbody>\n",
              "</table>\n"
            ],
            "text/plain": [
              "<pandas.io.formats.style.Styler at 0x16030521a20>"
            ]
          },
          "metadata": {},
          "output_type": "display_data"
        }
      ],
      "source": [
        "# # === SETUP ===\n",
        "s = setup(data=df, target='label', \n",
        "          fold=5, fold_strategy='stratifiedkfold',\n",
        "          fix_imbalance=True,\n",
        "          session_id=42)"
      ]
    },
    {
      "cell_type": "code",
      "execution_count": 34,
      "metadata": {
        "id": "kUCjOjsEYUXL"
      },
      "outputs": [
        {
          "data": {
            "text/html": [],
            "text/plain": [
              "<IPython.core.display.HTML object>"
            ]
          },
          "metadata": {},
          "output_type": "display_data"
        },
        {
          "data": {
            "text/html": [
              "<style type=\"text/css\">\n",
              "#T_4a66c th {\n",
              "  text-align: left;\n",
              "}\n",
              "#T_4a66c_row0_col0, #T_4a66c_row0_col1, #T_4a66c_row0_col2, #T_4a66c_row0_col3, #T_4a66c_row0_col5, #T_4a66c_row0_col6, #T_4a66c_row0_col7, #T_4a66c_row1_col0, #T_4a66c_row1_col1, #T_4a66c_row1_col4, #T_4a66c_row2_col0, #T_4a66c_row2_col2, #T_4a66c_row2_col3, #T_4a66c_row2_col4, #T_4a66c_row2_col5, #T_4a66c_row2_col6, #T_4a66c_row2_col7, #T_4a66c_row3_col0, #T_4a66c_row3_col1, #T_4a66c_row3_col2, #T_4a66c_row3_col3, #T_4a66c_row3_col4, #T_4a66c_row3_col5, #T_4a66c_row3_col6, #T_4a66c_row3_col7, #T_4a66c_row4_col0, #T_4a66c_row4_col1, #T_4a66c_row4_col2, #T_4a66c_row4_col3, #T_4a66c_row4_col4, #T_4a66c_row4_col5, #T_4a66c_row4_col6, #T_4a66c_row4_col7, #T_4a66c_row5_col0, #T_4a66c_row5_col1, #T_4a66c_row5_col2, #T_4a66c_row5_col3, #T_4a66c_row5_col4, #T_4a66c_row5_col5, #T_4a66c_row5_col6, #T_4a66c_row5_col7 {\n",
              "  text-align: left;\n",
              "}\n",
              "#T_4a66c_row0_col4, #T_4a66c_row1_col2, #T_4a66c_row1_col3, #T_4a66c_row1_col5, #T_4a66c_row1_col6, #T_4a66c_row1_col7, #T_4a66c_row2_col1 {\n",
              "  text-align: left;\n",
              "  background-color: yellow;\n",
              "}\n",
              "#T_4a66c_row0_col8, #T_4a66c_row1_col8, #T_4a66c_row2_col8, #T_4a66c_row3_col8, #T_4a66c_row4_col8 {\n",
              "  text-align: left;\n",
              "  background-color: lightgrey;\n",
              "}\n",
              "#T_4a66c_row5_col8 {\n",
              "  text-align: left;\n",
              "  background-color: yellow;\n",
              "  background-color: lightgrey;\n",
              "}\n",
              "</style>\n",
              "<table id=\"T_4a66c\">\n",
              "  <thead>\n",
              "    <tr>\n",
              "      <th class=\"blank level0\" >&nbsp;</th>\n",
              "      <th id=\"T_4a66c_level0_col0\" class=\"col_heading level0 col0\" >Model</th>\n",
              "      <th id=\"T_4a66c_level0_col1\" class=\"col_heading level0 col1\" >Accuracy</th>\n",
              "      <th id=\"T_4a66c_level0_col2\" class=\"col_heading level0 col2\" >AUC</th>\n",
              "      <th id=\"T_4a66c_level0_col3\" class=\"col_heading level0 col3\" >Recall</th>\n",
              "      <th id=\"T_4a66c_level0_col4\" class=\"col_heading level0 col4\" >Prec.</th>\n",
              "      <th id=\"T_4a66c_level0_col5\" class=\"col_heading level0 col5\" >F1</th>\n",
              "      <th id=\"T_4a66c_level0_col6\" class=\"col_heading level0 col6\" >Kappa</th>\n",
              "      <th id=\"T_4a66c_level0_col7\" class=\"col_heading level0 col7\" >MCC</th>\n",
              "      <th id=\"T_4a66c_level0_col8\" class=\"col_heading level0 col8\" >TT (Sec)</th>\n",
              "    </tr>\n",
              "  </thead>\n",
              "  <tbody>\n",
              "    <tr>\n",
              "      <th id=\"T_4a66c_level0_row0\" class=\"row_heading level0 row0\" >et</th>\n",
              "      <td id=\"T_4a66c_row0_col0\" class=\"data row0 col0\" >Extra Trees Classifier</td>\n",
              "      <td id=\"T_4a66c_row0_col1\" class=\"data row0 col1\" >0.9461</td>\n",
              "      <td id=\"T_4a66c_row0_col2\" class=\"data row0 col2\" >0.9463</td>\n",
              "      <td id=\"T_4a66c_row0_col3\" class=\"data row0 col3\" >0.4110</td>\n",
              "      <td id=\"T_4a66c_row0_col4\" class=\"data row0 col4\" >0.5890</td>\n",
              "      <td id=\"T_4a66c_row0_col5\" class=\"data row0 col5\" >0.4815</td>\n",
              "      <td id=\"T_4a66c_row0_col6\" class=\"data row0 col6\" >0.4541</td>\n",
              "      <td id=\"T_4a66c_row0_col7\" class=\"data row0 col7\" >0.4637</td>\n",
              "      <td id=\"T_4a66c_row0_col8\" class=\"data row0 col8\" >2.0900</td>\n",
              "    </tr>\n",
              "    <tr>\n",
              "      <th id=\"T_4a66c_level0_row1\" class=\"row_heading level0 row1\" >lightgbm</th>\n",
              "      <td id=\"T_4a66c_row1_col0\" class=\"data row1 col0\" >Light Gradient Boosting Machine</td>\n",
              "      <td id=\"T_4a66c_row1_col1\" class=\"data row1 col1\" >0.9462</td>\n",
              "      <td id=\"T_4a66c_row1_col2\" class=\"data row1 col2\" >0.9559</td>\n",
              "      <td id=\"T_4a66c_row1_col3\" class=\"data row1 col3\" >0.5293</td>\n",
              "      <td id=\"T_4a66c_row1_col4\" class=\"data row1 col4\" >0.5674</td>\n",
              "      <td id=\"T_4a66c_row1_col5\" class=\"data row1 col5\" >0.5452</td>\n",
              "      <td id=\"T_4a66c_row1_col6\" class=\"data row1 col6\" >0.5168</td>\n",
              "      <td id=\"T_4a66c_row1_col7\" class=\"data row1 col7\" >0.5185</td>\n",
              "      <td id=\"T_4a66c_row1_col8\" class=\"data row1 col8\" >0.5960</td>\n",
              "    </tr>\n",
              "    <tr>\n",
              "      <th id=\"T_4a66c_level0_row2\" class=\"row_heading level0 row2\" >catboost</th>\n",
              "      <td id=\"T_4a66c_row2_col0\" class=\"data row2 col0\" >CatBoost Classifier</td>\n",
              "      <td id=\"T_4a66c_row2_col1\" class=\"data row2 col1\" >0.9463</td>\n",
              "      <td id=\"T_4a66c_row2_col2\" class=\"data row2 col2\" >0.9537</td>\n",
              "      <td id=\"T_4a66c_row2_col3\" class=\"data row2 col3\" >0.5254</td>\n",
              "      <td id=\"T_4a66c_row2_col4\" class=\"data row2 col4\" >0.5674</td>\n",
              "      <td id=\"T_4a66c_row2_col5\" class=\"data row2 col5\" >0.5431</td>\n",
              "      <td id=\"T_4a66c_row2_col6\" class=\"data row2 col6\" >0.5147</td>\n",
              "      <td id=\"T_4a66c_row2_col7\" class=\"data row2 col7\" >0.5165</td>\n",
              "      <td id=\"T_4a66c_row2_col8\" class=\"data row2 col8\" >13.7440</td>\n",
              "    </tr>\n",
              "    <tr>\n",
              "      <th id=\"T_4a66c_level0_row3\" class=\"row_heading level0 row3\" >xgboost</th>\n",
              "      <td id=\"T_4a66c_row3_col0\" class=\"data row3 col0\" >Extreme Gradient Boosting</td>\n",
              "      <td id=\"T_4a66c_row3_col1\" class=\"data row3 col1\" >0.9448</td>\n",
              "      <td id=\"T_4a66c_row3_col2\" class=\"data row3 col2\" >0.9536</td>\n",
              "      <td id=\"T_4a66c_row3_col3\" class=\"data row3 col3\" >0.4814</td>\n",
              "      <td id=\"T_4a66c_row3_col4\" class=\"data row3 col4\" >0.5596</td>\n",
              "      <td id=\"T_4a66c_row3_col5\" class=\"data row3 col5\" >0.5153</td>\n",
              "      <td id=\"T_4a66c_row3_col6\" class=\"data row3 col6\" >0.4864</td>\n",
              "      <td id=\"T_4a66c_row3_col7\" class=\"data row3 col7\" >0.4891</td>\n",
              "      <td id=\"T_4a66c_row3_col8\" class=\"data row3 col8\" >3.8540</td>\n",
              "    </tr>\n",
              "    <tr>\n",
              "      <th id=\"T_4a66c_level0_row4\" class=\"row_heading level0 row4\" >rf</th>\n",
              "      <td id=\"T_4a66c_row4_col0\" class=\"data row4 col0\" >Random Forest Classifier</td>\n",
              "      <td id=\"T_4a66c_row4_col1\" class=\"data row4 col1\" >0.9428</td>\n",
              "      <td id=\"T_4a66c_row4_col2\" class=\"data row4 col2\" >0.9501</td>\n",
              "      <td id=\"T_4a66c_row4_col3\" class=\"data row4 col3\" >0.4535</td>\n",
              "      <td id=\"T_4a66c_row4_col4\" class=\"data row4 col4\" >0.5386</td>\n",
              "      <td id=\"T_4a66c_row4_col5\" class=\"data row4 col5\" >0.4903</td>\n",
              "      <td id=\"T_4a66c_row4_col6\" class=\"data row4 col6\" >0.4604</td>\n",
              "      <td id=\"T_4a66c_row4_col7\" class=\"data row4 col7\" >0.4634</td>\n",
              "      <td id=\"T_4a66c_row4_col8\" class=\"data row4 col8\" >3.2080</td>\n",
              "    </tr>\n",
              "    <tr>\n",
              "      <th id=\"T_4a66c_level0_row5\" class=\"row_heading level0 row5\" >dt</th>\n",
              "      <td id=\"T_4a66c_row5_col0\" class=\"data row5 col0\" >Decision Tree Classifier</td>\n",
              "      <td id=\"T_4a66c_row5_col1\" class=\"data row5 col1\" >0.9105</td>\n",
              "      <td id=\"T_4a66c_row5_col2\" class=\"data row5 col2\" >0.7186</td>\n",
              "      <td id=\"T_4a66c_row5_col3\" class=\"data row5 col3\" >0.5000</td>\n",
              "      <td id=\"T_4a66c_row5_col4\" class=\"data row5 col4\" >0.3414</td>\n",
              "      <td id=\"T_4a66c_row5_col5\" class=\"data row5 col5\" >0.4048</td>\n",
              "      <td id=\"T_4a66c_row5_col6\" class=\"data row5 col6\" >0.3583</td>\n",
              "      <td id=\"T_4a66c_row5_col7\" class=\"data row5 col7\" >0.3665</td>\n",
              "      <td id=\"T_4a66c_row5_col8\" class=\"data row5 col8\" >0.4680</td>\n",
              "    </tr>\n",
              "  </tbody>\n",
              "</table>\n"
            ],
            "text/plain": [
              "<pandas.io.formats.style.Styler at 0x16032ec4190>"
            ]
          },
          "metadata": {},
          "output_type": "display_data"
        },
        {
          "data": {
            "text/html": [],
            "text/plain": [
              "<IPython.core.display.HTML object>"
            ]
          },
          "metadata": {},
          "output_type": "display_data"
        }
      ],
      "source": [
        "#  modelos de árbol\n",
        "modelos = ['et','rf','dt','xgboost','lightgbm','catboost']\n",
        "\n",
        "best_model = compare_models(include=modelos, sort='Precision')\n"
      ]
    },
    {
      "cell_type": "code",
      "execution_count": 35,
      "metadata": {},
      "outputs": [
        {
          "data": {
            "application/vnd.jupyter.widget-view+json": {
              "model_id": "3aa47002a37c4bb8b90bb2148ed7988f",
              "version_major": 2,
              "version_minor": 0
            },
            "text/plain": [
              "interactive(children=(ToggleButtons(description='Plot Type:', icons=('',), options=(('Pipeline Plot', 'pipelin…"
            ]
          },
          "metadata": {},
          "output_type": "display_data"
        }
      ],
      "source": [
        "evaluate_model(best_model)"
      ]
    },
    {
      "cell_type": "code",
      "execution_count": 36,
      "metadata": {},
      "outputs": [
        {
          "data": {
            "text/html": [],
            "text/plain": [
              "<IPython.core.display.HTML object>"
            ]
          },
          "metadata": {},
          "output_type": "display_data"
        },
        {
          "data": {
            "image/png": "[encoded data removed]",
            "text/plain": [
              "<Figure size 800x550 with 1 Axes>"
            ]
          },
          "metadata": {},
          "output_type": "display_data"
        },
        {
          "data": {
            "text/html": [],
            "text/plain": [
              "<IPython.core.display.HTML object>"
            ]
          },
          "metadata": {},
          "output_type": "display_data"
        },
        {
          "data": {
            "image/png": "[encoded data removed]",
            "text/plain": [
              "<Figure size 800x550 with 1 Axes>"
            ]
          },
          "metadata": {},
          "output_type": "display_data"
        },
        {
          "data": {
            "text/html": [],
            "text/plain": [
              "<IPython.core.display.HTML object>"
            ]
          },
          "metadata": {},
          "output_type": "display_data"
        },
        {
          "data": {
            "image/png": "[encoded data removed]",
            "text/plain": [
              "<Figure size 800x500 with 1 Axes>"
            ]
          },
          "metadata": {},
          "output_type": "display_data"
        },
        {
          "data": {
            "text/html": [],
            "text/plain": [
              "<IPython.core.display.HTML object>"
            ]
          },
          "metadata": {},
          "output_type": "display_data"
        },
        {
          "data": {
            "image/png": "[encoded data removed]",
            "text/plain": [
              "<Figure size 800x550 with 1 Axes>"
            ]
          },
          "metadata": {},
          "output_type": "display_data"
        }
      ],
      "source": [
        "plot_model(best_model, plot='confusion_matrix')\n",
        "plot_model(best_model, plot='threshold')\n",
        "plot_model(best_model, plot='feature')\n",
        "plot_model(best_model, plot='learning')"
      ]
    },
    {
      "cell_type": "markdown",
      "metadata": {},
      "source": [
        "**3.1.2. Rta/**\n",
        "- Decision tree (dt): Es método de aprendizaje supervisado no paramétrico y puede usarse tanto en tareas de clasificación como regresión. A través de reglas aprendidas según las características de los datos va tomando decisiones para separar de forma binaria los atributos y asi clasificar las nuevas observaciones. \n",
        "\n",
        "- Extra Trees (et): Es un método de emsamble que, a diferencia de arboles de decision clasicos, selecciona  de una forma mas extrema y aleatoria los atributos y umbrales con los cuales divide los nodos.\n",
        "- Random Forest tree (rf): Es un método de ensamble que utiliza varios clasificadores de árboles de decisión tomando submuestras del conjunto de datos y utiliza el promedio para mejorar la precisión predictiva y controlar el sobreajuste. \n",
        "\n",
        "\n",
        "\n"
      ]
    },
    {
      "cell_type": "markdown",
      "metadata": {},
      "source": [
        "**3.1.3. Rta/** Tras realizar la comparación de modelos, el que mejor rendimiento tiene términos de precisión es Extra Trees (ET), y aunque LightGBM tardó menos. \n",
        "- El modelo, en su matriz de confusión (30% del total de obs), evidencia un bajo número de falsos positivos (108) a cambio de tener más falsos negativos (173), lo que hace que haya un sesgo hacia la precisión. \n",
        "\n",
        "- El gráfico de threshold indica que el valor por defecto (0.5) no es optimo, pues para reducir falsos positivos habría que aumentar ese umbral hasta 0.65 aproximadamente. \n",
        "\n",
        "- En cuanto a la importancia de variables se destaca Nationality, Reactions y Club_Position, junto con variables que representan aspectos técnicos de un futbolista (Ball_Control, Short_Pass). Esto tiene sentido con los intereses.  \n",
        "\n",
        "- La curva de aprendizaje muestra estabilidad, aunque parece que al incio el modelo está sobreajustando (perfecto el entrenamiento). A medida que aumentan los datos, el modelo generaliza mucho mejor hasta cierto punto donde comeinza a estabilizarse. Esto significa que el modelo tiene alta capacidad y puede aprender bien con cerca de 14000 ejemplos."
      ]
    },
    {
      "cell_type": "markdown",
      "metadata": {
        "id": "K8DSS3u1xMpB"
      },
      "source": [
        "### 2.2 Reducción de dimensionalidad [14 puntos]"
      ]
    },
    {
      "cell_type": "markdown",
      "metadata": {
        "id": "RLu0543p876P"
      },
      "source": [
        "<center>\n",
        "<img src='https://i.kym-cdn.com/photos/images/original/002/258/560/668.gif' width=400 />"
      ]
    },
    {
      "cell_type": "markdown",
      "metadata": {
        "id": "QT-bxJ0txwNF"
      },
      "source": [
        "A pesar de los resultados obtenidos previamente, el manager de Jere ha solicitado el entrenamiento de un modelo de XGBoost utilizando los datos disponibles. Además, se debe proceder a realizar una reducción de dimensionalidad basada en la importancia de las características.\n",
        "\n",
        "Para llevar a cabo esta tarea:\n",
        "\n",
        "1. Inicie entrenando un modelo XGBoost con todas las características disponibles. [2 puntos]\n",
        "\n",
        "2. Una vez el modelo esté entrenado, evalúe y clasifique las características según su importancia de forma descendente. [2 puntos]\n",
        "\n",
        "3. Utilice esta clasificación para ejecutar una búsqueda recursiva de eliminación de características, eliminando progresivamente las menos importantes y evaluando el impacto en el desempeño del modelo hasta identificar las N características más críticas. [2 puntos]\n",
        "\n",
        "4. Con este conjunto reducido de características, entrene un nuevo modelo y evalúe su rendimiento. [2 puntos]\n",
        "\n",
        "5. Posteriormente, responda a las siguientes preguntas para una comprensión más profunda de los cambios y beneficios:\n",
        "\n",
        "  - ¿El rendimiento del modelo con las características seleccionadas es similar al del modelo original? ¿Cómo se comparan en términos de precisión y robustez? [2 puntos]\n",
        "  - ¿Cuáles son los beneficios potenciales de eliminar variables del modelo? Considere factores como la simplificación del modelo, reducción del tiempo de entrenamiento, y mejora en la capacidad de generalización. [2 puntos]\n",
        "  - Comente si el modelo con menor dimensionalidad es más sencillo de explicar. Explique brevemente por qué la eliminación de ciertas características puede facilitar la comprensión y la explicación del comportamiento del modelo. [2 puntos]\n",
        "\n",
        "Notar que con esta metodologia buscamos encontrar un punto entermedio entre número de festures y desempeño. por esto, si observa que al aumentar festires el aumento es despreciable, puede no considerar agregar más features a su modelo."
      ]
    },
    {
      "cell_type": "markdown",
      "metadata": {
        "id": "NHfmK63TuDOS"
      },
      "source": [
        "**Respuesta**"
      ]
    },
    {
      "cell_type": "markdown",
      "metadata": {},
      "source": [
        "**3.2.1. Entrenamiento de XGBoost**"
      ]
    },
    {
      "cell_type": "code",
      "execution_count": 38,
      "metadata": {
        "id": "HQwUd_nsuDOe"
      },
      "outputs": [],
      "source": [
        "from sklearn.model_selection import StratifiedKFold\n",
        "from sklearn.metrics import (confusion_matrix, f1_score, roc_auc_score)"
      ]
    },
    {
      "cell_type": "code",
      "execution_count": 41,
      "metadata": {},
      "outputs": [],
      "source": [
        "RANDOM_STATE = 42\n",
        "\n",
        "def print_metrics(y_true, y_pred, y_prob=None, titulo=\"Métricas\"):\n",
        "    tn, fp, fn, tp = confusion_matrix(y_true, y_pred).ravel()\n",
        "    prec  = precision_score(y_true, y_pred, zero_division=0)\n",
        "    rec   = recall_score(y_true, y_pred, zero_division=0)\n",
        "    f1    = f1_score(y_true, y_pred, zero_division=0)\n",
        "    auc   = roc_auc_score(y_true, y_prob) if y_prob is not None else np.nan\n",
        "    print(f\"\\n=== {titulo} ===\")\n",
        "    print(f\"TP={tp}  TN={tn}  FP={fp}  FN={fn}\")\n",
        "    print(f\"Precision={prec:.3f}  Recall={rec:.3f}  F1={f1:.3f}  AUC={auc:.4f}\")\n",
        "    return {\"TP\":tp,\"TN\":tn,\"FP\":fp,\"FN\":fn,\"Precision\":prec,\"Recall\":rec,\"F1\":f1,\"AUC\":auc}\n",
        "\n",
        "def compute_scale_pos_weight(y):\n",
        "    pos = y.sum()\n",
        "    neg = len(y) - pos\n",
        "    return float(neg / pos) if pos > 0 else 1.0\n"
      ]
    },
    {
      "cell_type": "code",
      "execution_count": 56,
      "metadata": {},
      "outputs": [
        {
          "data": {
            "text/plain": [
              "Index(['Nationality', 'Club_Position', 'Height', 'Weight', 'Preffered_Foot',\n",
              "       'Age', 'Work_Rate', 'Weak_foot', 'Skill_Moves', 'Ball_Control',\n",
              "       'Dribbling', 'Marking', 'Sliding_Tackle', 'Standing_Tackle',\n",
              "       'Aggression', 'Reactions', 'Interceptions', 'Vision', 'Composure',\n",
              "       'Crossing', 'Short_Pass', 'Long_Pass', 'Acceleration', 'Speed',\n",
              "       'Stamina', 'Strength', 'Balance', 'Agility', 'Jumping', 'Heading',\n",
              "       'Shot_Power', 'Finishing', 'Long_Shots', 'Curve', 'Freekick_Accuracy',\n",
              "       'Penalties', 'Volleys', 'label'],\n",
              "      dtype='object')"
            ]
          },
          "execution_count": 56,
          "metadata": {},
          "output_type": "execute_result"
        }
      ],
      "source": [
        "df.columns"
      ]
    },
    {
      "cell_type": "code",
      "execution_count": 57,
      "metadata": {},
      "outputs": [
        {
          "data": {
            "text/plain": [
              "5277"
            ]
          },
          "execution_count": 57,
          "metadata": {},
          "output_type": "execute_result"
        }
      ],
      "source": [
        "X = df.drop(columns=['label'])\n",
        "y = df[\"label\"]\n",
        "\n",
        "num_cols = X.select_dtypes(include=[\"number\"]).columns.tolist()\n",
        "cat_cols = X.select_dtypes(include=[\"object\", \"category\"]).columns.tolist()\n",
        "\n",
        "col_transformer = ColumnTransformer(transformers=[\n",
        "    (\"num\", StandardScaler(), num_cols),\n",
        "    (\"cat\", OneHotEncoder(handle_unknown=\"ignore\"), cat_cols)\n",
        "])\n",
        "\n",
        "X_train, X_test, y_train, y_test = train_test_split(X, y, test_size=0.3, random_state=93, stratify=y)\n",
        "\n",
        "# Ratio para desbalance\n",
        "clase_0 = (y_train == 0).sum()\n",
        "clase_1 = (y_train == 1).sum()\n",
        "peso = clase_0 / clase_1 if clase_1 > 0 else 1.0\n",
        "\n",
        "\n",
        "pipeline_xgboost = Pipeline(steps=[(\"prep\", col_transformer),\n",
        "                                   (\"clf\", XGBClassifier(eval_metric=\"logloss\", random_state=93, scale_pos_weight=peso ))])\n",
        "\n",
        "pipeline_xgboost.fit(X_train, y_train)\n",
        "y_pred = pipeline_xgboost.predict(X_test)\n",
        "len(y_pred)"
      ]
    },
    {
      "cell_type": "code",
      "execution_count": 58,
      "metadata": {},
      "outputs": [
        {
          "name": "stdout",
          "output_type": "stream",
          "text": [
            "Matriz de confusión\n",
            " [[4715  239]\n",
            " [ 113  210]] \n",
            "\n",
            "              precision    recall  f1-score   support\n",
            "\n",
            "           0       0.98      0.95      0.96      4954\n",
            "           1       0.47      0.65      0.54       323\n",
            "\n",
            "    accuracy                           0.93      5277\n",
            "   macro avg       0.72      0.80      0.75      5277\n",
            "weighted avg       0.95      0.93      0.94      5277\n",
            "\n"
          ]
        }
      ],
      "source": [
        "print(\"Matriz de confusión\\n\", confusion_matrix(y_test, y_pred), \"\\n\")\n",
        "print(classification_report(y_test, y_pred))"
      ]
    },
    {
      "cell_type": "code",
      "execution_count": 59,
      "metadata": {},
      "outputs": [
        {
          "data": {
            "text/html": [
              "<div>\n",
              "<style scoped>\n",
              "    .dataframe tbody tr th:only-of-type {\n",
              "        vertical-align: middle;\n",
              "    }\n",
              "\n",
              "    .dataframe tbody tr th {\n",
              "        vertical-align: top;\n",
              "    }\n",
              "\n",
              "    .dataframe thead th {\n",
              "        text-align: right;\n",
              "    }\n",
              "</style>\n",
              "<table border=\"1\" class=\"dataframe\">\n",
              "  <thead>\n",
              "    <tr style=\"text-align: right;\">\n",
              "      <th></th>\n",
              "      <th>feature_out</th>\n",
              "      <th>importance</th>\n",
              "    </tr>\n",
              "  </thead>\n",
              "  <tbody>\n",
              "    <tr>\n",
              "      <th>0</th>\n",
              "      <td>cat__Club_Position_Res</td>\n",
              "      <td>0.043257</td>\n",
              "    </tr>\n",
              "    <tr>\n",
              "      <th>1</th>\n",
              "      <td>cat__Nationality_Brazil</td>\n",
              "      <td>0.029025</td>\n",
              "    </tr>\n",
              "    <tr>\n",
              "      <th>2</th>\n",
              "      <td>num__Reactions</td>\n",
              "      <td>0.026752</td>\n",
              "    </tr>\n",
              "    <tr>\n",
              "      <th>3</th>\n",
              "      <td>cat__Nationality_Spain</td>\n",
              "      <td>0.026213</td>\n",
              "    </tr>\n",
              "    <tr>\n",
              "      <th>4</th>\n",
              "      <td>cat__Nationality_England</td>\n",
              "      <td>0.022103</td>\n",
              "    </tr>\n",
              "    <tr>\n",
              "      <th>5</th>\n",
              "      <td>cat__Club_Position_GK</td>\n",
              "      <td>0.021701</td>\n",
              "    </tr>\n",
              "    <tr>\n",
              "      <th>6</th>\n",
              "      <td>cat__Nationality_Italy</td>\n",
              "      <td>0.021661</td>\n",
              "    </tr>\n",
              "    <tr>\n",
              "      <th>7</th>\n",
              "      <td>cat__Nationality_Venezuela</td>\n",
              "      <td>0.021197</td>\n",
              "    </tr>\n",
              "    <tr>\n",
              "      <th>8</th>\n",
              "      <td>cat__Nationality_India</td>\n",
              "      <td>0.020572</td>\n",
              "    </tr>\n",
              "    <tr>\n",
              "      <th>9</th>\n",
              "      <td>cat__Nationality_Finland</td>\n",
              "      <td>0.019906</td>\n",
              "    </tr>\n",
              "    <tr>\n",
              "      <th>10</th>\n",
              "      <td>cat__Nationality_Canada</td>\n",
              "      <td>0.019849</td>\n",
              "    </tr>\n",
              "    <tr>\n",
              "      <th>11</th>\n",
              "      <td>cat__Nationality_Germany</td>\n",
              "      <td>0.019240</td>\n",
              "    </tr>\n",
              "    <tr>\n",
              "      <th>12</th>\n",
              "      <td>cat__Nationality_Northern Ireland</td>\n",
              "      <td>0.019098</td>\n",
              "    </tr>\n",
              "    <tr>\n",
              "      <th>13</th>\n",
              "      <td>cat__Nationality_Argentina</td>\n",
              "      <td>0.018996</td>\n",
              "    </tr>\n",
              "    <tr>\n",
              "      <th>14</th>\n",
              "      <td>cat__Nationality_France</td>\n",
              "      <td>0.017780</td>\n",
              "    </tr>\n",
              "    <tr>\n",
              "      <th>15</th>\n",
              "      <td>cat__Nationality_China PR</td>\n",
              "      <td>0.015904</td>\n",
              "    </tr>\n",
              "    <tr>\n",
              "      <th>16</th>\n",
              "      <td>cat__Nationality_Cameroon</td>\n",
              "      <td>0.015691</td>\n",
              "    </tr>\n",
              "    <tr>\n",
              "      <th>17</th>\n",
              "      <td>cat__Club_Position_ST</td>\n",
              "      <td>0.015200</td>\n",
              "    </tr>\n",
              "    <tr>\n",
              "      <th>18</th>\n",
              "      <td>cat__Nationality_Peru</td>\n",
              "      <td>0.015143</td>\n",
              "    </tr>\n",
              "    <tr>\n",
              "      <th>19</th>\n",
              "      <td>cat__Nationality_Japan</td>\n",
              "      <td>0.014211</td>\n",
              "    </tr>\n",
              "  </tbody>\n",
              "</table>\n",
              "</div>"
            ],
            "text/plain": [
              "                          feature_out  importance\n",
              "0              cat__Club_Position_Res    0.043257\n",
              "1             cat__Nationality_Brazil    0.029025\n",
              "2                      num__Reactions    0.026752\n",
              "3              cat__Nationality_Spain    0.026213\n",
              "4            cat__Nationality_England    0.022103\n",
              "5               cat__Club_Position_GK    0.021701\n",
              "6              cat__Nationality_Italy    0.021661\n",
              "7          cat__Nationality_Venezuela    0.021197\n",
              "8              cat__Nationality_India    0.020572\n",
              "9            cat__Nationality_Finland    0.019906\n",
              "10            cat__Nationality_Canada    0.019849\n",
              "11           cat__Nationality_Germany    0.019240\n",
              "12  cat__Nationality_Northern Ireland    0.019098\n",
              "13         cat__Nationality_Argentina    0.018996\n",
              "14            cat__Nationality_France    0.017780\n",
              "15          cat__Nationality_China PR    0.015904\n",
              "16          cat__Nationality_Cameroon    0.015691\n",
              "17              cat__Club_Position_ST    0.015200\n",
              "18              cat__Nationality_Peru    0.015143\n",
              "19             cat__Nationality_Japan    0.014211"
            ]
          },
          "execution_count": 59,
          "metadata": {},
          "output_type": "execute_result"
        }
      ],
      "source": [
        "feat_names = pipeline_xgboost.named_steps[\"prep\"].get_feature_names_out()\n",
        "\n",
        "imp = pipeline_xgboost.named_steps[\"clf\"].feature_importances_\n",
        "\n",
        "# 3) ranking\n",
        "fi = (pd.DataFrame({\"feature_out\": feat_names, \"importance\": imp})\n",
        "        .sort_values(\"importance\", ascending=False)\n",
        "        .reset_index(drop=True))\n",
        "\n",
        "fi.head(20)  # Top 20\n"
      ]
    },
    {
      "cell_type": "code",
      "execution_count": 60,
      "metadata": {},
      "outputs": [
        {
          "name": "stdout",
          "output_type": "stream",
          "text": [
            "Top 10 variables originales por 'gain':\n"
          ]
        },
        {
          "data": {
            "text/html": [
              "<div>\n",
              "<style scoped>\n",
              "    .dataframe tbody tr th:only-of-type {\n",
              "        vertical-align: middle;\n",
              "    }\n",
              "\n",
              "    .dataframe tbody tr th {\n",
              "        vertical-align: top;\n",
              "    }\n",
              "\n",
              "    .dataframe thead th {\n",
              "        text-align: right;\n",
              "    }\n",
              "</style>\n",
              "<table border=\"1\" class=\"dataframe\">\n",
              "  <thead>\n",
              "    <tr style=\"text-align: right;\">\n",
              "      <th></th>\n",
              "      <th>orig_feature</th>\n",
              "      <th>gain</th>\n",
              "    </tr>\n",
              "  </thead>\n",
              "  <tbody>\n",
              "    <tr>\n",
              "      <th>20</th>\n",
              "      <td>Nationality</td>\n",
              "      <td>1873.231436</td>\n",
              "    </tr>\n",
              "    <tr>\n",
              "      <th>6</th>\n",
              "      <td>Club</td>\n",
              "      <td>353.965006</td>\n",
              "    </tr>\n",
              "    <tr>\n",
              "      <th>23</th>\n",
              "      <td>Reactions</td>\n",
              "      <td>75.016396</td>\n",
              "    </tr>\n",
              "    <tr>\n",
              "      <th>36</th>\n",
              "      <td>Work</td>\n",
              "      <td>61.497556</td>\n",
              "    </tr>\n",
              "    <tr>\n",
              "      <th>7</th>\n",
              "      <td>Composure</td>\n",
              "      <td>38.693745</td>\n",
              "    </tr>\n",
              "    <tr>\n",
              "      <th>1</th>\n",
              "      <td>Age</td>\n",
              "      <td>29.349611</td>\n",
              "    </tr>\n",
              "    <tr>\n",
              "      <th>30</th>\n",
              "      <td>Standing_Tackle</td>\n",
              "      <td>27.559099</td>\n",
              "    </tr>\n",
              "    <tr>\n",
              "      <th>10</th>\n",
              "      <td>Dribbling</td>\n",
              "      <td>19.530525</td>\n",
              "    </tr>\n",
              "    <tr>\n",
              "      <th>25</th>\n",
              "      <td>Shot_Power</td>\n",
              "      <td>19.357079</td>\n",
              "    </tr>\n",
              "    <tr>\n",
              "      <th>15</th>\n",
              "      <td>Interceptions</td>\n",
              "      <td>19.286348</td>\n",
              "    </tr>\n",
              "  </tbody>\n",
              "</table>\n",
              "</div>"
            ],
            "text/plain": [
              "       orig_feature         gain\n",
              "20      Nationality  1873.231436\n",
              "6              Club   353.965006\n",
              "23        Reactions    75.016396\n",
              "36             Work    61.497556\n",
              "7         Composure    38.693745\n",
              "1               Age    29.349611\n",
              "30  Standing_Tackle    27.559099\n",
              "10        Dribbling    19.530525\n",
              "25       Shot_Power    19.357079\n",
              "15    Interceptions    19.286348"
            ]
          },
          "metadata": {},
          "output_type": "display_data"
        },
        {
          "data": {
            "application/vnd.plotly.v1+json": {
              "config": {
                "plotlyServerURL": "https://plot.ly"
              },
              "data": [
                {
                  "mode": "lines",
                  "name": "Main Line",
                  "type": "scatter",
                  "x": [
                    1,
                    2,
                    3,
                    4,
                    5,
                    6,
                    7,
                    8,
                    9,
                    10,
                    11,
                    12,
                    13,
                    14,
                    15,
                    16,
                    17,
                    18,
                    19,
                    20,
                    21,
                    22,
                    23,
                    24,
                    25,
                    26,
                    27,
                    28,
                    29,
                    30,
                    31,
                    32,
                    33,
                    34,
                    35,
                    36,
                    37
                  ],
                  "y": {
                    "bdata": "qOHDEbYv4j/XvUDIaHfiP0g3Diq7QOU/hkrRDQBz5T+ftum2SKDlP+60QWog9+U/4i37L/0k5j+ty60YwGDmPznMaqd0duY/ap0hRg2E5j9glHOYsrPmP1ZjOmPdtOY/Rd4VdLPO5j8izu79cd7mP35WSOSMzOY/A8HQmfTy5j+t6G3NB7vmP9Kjmn/sDuc/4Y/gmL8F5z/GZLQ7MuPmP9gzFxtN4OY/qNjaf1/+5j/PndrQUP/mPwxK8vbMBOc/iQPeMOTo5j/y+GMKXh/nP0K1i0t4R+c/c8oDKDQA5z+gDumI2D/nP7rUE0BFN+c/MHdMA4wO5z8TzRm+VgXnP/mn09j75eY/w+i72soQ5z/YR40gBhHnP+ueS0XBKuc/MGKlI1FC5z8=",
                    "dtype": "f8"
                  }
                },
                {
                  "fill": "toself",
                  "fillcolor": "rgba(0,100,80,0.2)",
                  "line": {
                    "color": "rgba(255,255,255,0)"
                  },
                  "name": "Variation",
                  "type": "scatter",
                  "x": {
                    "bdata": "AQAAAAIAAAADAAAABAAAAAUAAAAGAAAABwAAAAgAAAAJAAAACgAAAAsAAAAMAAAADQAAAA4AAAAPAAAAEAAAABEAAAASAAAAEwAAABQAAAAVAAAAFgAAABcAAAAYAAAAGQAAABoAAAAbAAAAHAAAAB0AAAAeAAAAHwAAACAAAAAhAAAAIgAAACMAAAAkAAAAJQAAACUAAAAkAAAAIwAAACIAAAAhAAAAIAAAAB8AAAAeAAAAHQAAABwAAAAbAAAAGgAAABkAAAAYAAAAFwAAABYAAAAVAAAAFAAAABMAAAASAAAAEQAAABAAAAAPAAAADgAAAA0AAAAMAAAACwAAAAoAAAAJAAAACAAAAAcAAAAGAAAABQAAAAQAAAADAAAAAgAAAAEAAAA=",
                    "dtype": "i4"
                  },
                  "y": {
                    "bdata": "uAooIdDz4T97BGndBEriP6YxazEX4uQ/7IYJeb0S5T+SRYGKFkvlP3yjZz0pauU/0ywj0je35T9/dsu45RjmP/xeYTXI8+U/FKc1nXU55j/UoNta9iDmP6tWcTxyRuY/VrsxFFiU5j+RXdMUIZbmP/NMr3sIfOY/Lx1O36Zz5j99jk2Nh2vmP2Y2D5vVsuY/c1pMuBHP5j/ULmUSEXLmP6TmYewubOY/ZoAxxuOn5j8qlWe1lbDmP/CDi2pnfuY/yS5K/tOR5j+xlZat37HmP39xcHXq8+Y/e9AJxdxd5j84EJpvW5jmPxx0bXlMzeY/w3Cw+3Km5j8U/dd14KHmP9MQBfpkUOY/lv+adUii5j8yDqh4p7jmP1QZ7zGp1+Y/gwmhn2bT5j/duqmnO7HnP4IkqFjZfec/foFyyGRp5z/w0dw/TX/nPx8/oreSe+c/Ep1bBs1o5z+dfegKpXbnP1g1ugY+oec/CA04olXn5z9rxP2Ki6LnPwX5piEGm+c/M1wxZ9yM5z9J2HFj9D/nPygQWYMyi+c/dKZN7AtO5z/qMIQ521TnPwyBzElrVOc/uJoDZVNU5z9PxXR5bTznPz4RJmQDa+c/3UKODYgK5z/XZFNUQnLnPwlg4UwRHec/sz4K58Im5z80AfrTDgnnPwFwA4pII+c/7IcL1m5G5z/Akw3vpM7mP3Y5dBkh+eY/2yCQeJqo5j/xLtONwpLmP2DGG5cXhOY/rCdS43r15T8gDpmiQtPlP+o8sSJfn+U/M3cYs8yk4j+YuF8CnGviPw==",
                    "dtype": "f8"
                  }
                }
              ],
              "layout": {
                "showlegend": false,
                "template": {
                  "data": {
                    "bar": [
                      {
                        "error_x": {
                          "color": "rgb(36,36,36)"
                        },
                        "error_y": {
                          "color": "rgb(36,36,36)"
                        },
                        "marker": {
                          "line": {
                            "color": "white",
                            "width": 0.5
                          },
                          "pattern": {
                            "fillmode": "overlay",
                            "size": 10,
                            "solidity": 0.2
                          }
                        },
                        "type": "bar"
                      }
                    ],
                    "barpolar": [
                      {
                        "marker": {
                          "line": {
                            "color": "white",
                            "width": 0.5
                          },
                          "pattern": {
                            "fillmode": "overlay",
                            "size": 10,
                            "solidity": 0.2
                          }
                        },
                        "type": "barpolar"
                      }
                    ],
                    "carpet": [
                      {
                        "aaxis": {
                          "endlinecolor": "rgb(36,36,36)",
                          "gridcolor": "white",
                          "linecolor": "white",
                          "minorgridcolor": "white",
                          "startlinecolor": "rgb(36,36,36)"
                        },
                        "baxis": {
                          "endlinecolor": "rgb(36,36,36)",
                          "gridcolor": "white",
                          "linecolor": "white",
                          "minorgridcolor": "white",
                          "startlinecolor": "rgb(36,36,36)"
                        },
                        "type": "carpet"
                      }
                    ],
                    "choropleth": [
                      {
                        "colorbar": {
                          "outlinewidth": 1,
                          "tickcolor": "rgb(36,36,36)",
                          "ticks": "outside"
                        },
                        "type": "choropleth"
                      }
                    ],
                    "contour": [
                      {
                        "colorbar": {
                          "outlinewidth": 1,
                          "tickcolor": "rgb(36,36,36)",
                          "ticks": "outside"
                        },
                        "colorscale": [
                          [
                            0,
                            "#440154"
                          ],
                          [
                            0.1111111111111111,
                            "#482878"
                          ],
                          [
                            0.2222222222222222,
                            "#3e4989"
                          ],
                          [
                            0.3333333333333333,
                            "#31688e"
                          ],
                          [
                            0.4444444444444444,
                            "#26828e"
                          ],
                          [
                            0.5555555555555556,
                            "#1f9e89"
                          ],
                          [
                            0.6666666666666666,
                            "#35b779"
                          ],
                          [
                            0.7777777777777778,
                            "#6ece58"
                          ],
                          [
                            0.8888888888888888,
                            "#b5de2b"
                          ],
                          [
                            1,
                            "#fde725"
                          ]
                        ],
                        "type": "contour"
                      }
                    ],
                    "contourcarpet": [
                      {
                        "colorbar": {
                          "outlinewidth": 1,
                          "tickcolor": "rgb(36,36,36)",
                          "ticks": "outside"
                        },
                        "type": "contourcarpet"
                      }
                    ],
                    "heatmap": [
                      {
                        "colorbar": {
                          "outlinewidth": 1,
                          "tickcolor": "rgb(36,36,36)",
                          "ticks": "outside"
                        },
                        "colorscale": [
                          [
                            0,
                            "#440154"
                          ],
                          [
                            0.1111111111111111,
                            "#482878"
                          ],
                          [
                            0.2222222222222222,
                            "#3e4989"
                          ],
                          [
                            0.3333333333333333,
                            "#31688e"
                          ],
                          [
                            0.4444444444444444,
                            "#26828e"
                          ],
                          [
                            0.5555555555555556,
                            "#1f9e89"
                          ],
                          [
                            0.6666666666666666,
                            "#35b779"
                          ],
                          [
                            0.7777777777777778,
                            "#6ece58"
                          ],
                          [
                            0.8888888888888888,
                            "#b5de2b"
                          ],
                          [
                            1,
                            "#fde725"
                          ]
                        ],
                        "type": "heatmap"
                      }
                    ],
                    "histogram": [
                      {
                        "marker": {
                          "line": {
                            "color": "white",
                            "width": 0.6
                          }
                        },
                        "type": "histogram"
                      }
                    ],
                    "histogram2d": [
                      {
                        "colorbar": {
                          "outlinewidth": 1,
                          "tickcolor": "rgb(36,36,36)",
                          "ticks": "outside"
                        },
                        "colorscale": [
                          [
                            0,
                            "#440154"
                          ],
                          [
                            0.1111111111111111,
                            "#482878"
                          ],
                          [
                            0.2222222222222222,
                            "#3e4989"
                          ],
                          [
                            0.3333333333333333,
                            "#31688e"
                          ],
                          [
                            0.4444444444444444,
                            "#26828e"
                          ],
                          [
                            0.5555555555555556,
                            "#1f9e89"
                          ],
                          [
                            0.6666666666666666,
                            "#35b779"
                          ],
                          [
                            0.7777777777777778,
                            "#6ece58"
                          ],
                          [
                            0.8888888888888888,
                            "#b5de2b"
                          ],
                          [
                            1,
                            "#fde725"
                          ]
                        ],
                        "type": "histogram2d"
                      }
                    ],
                    "histogram2dcontour": [
                      {
                        "colorbar": {
                          "outlinewidth": 1,
                          "tickcolor": "rgb(36,36,36)",
                          "ticks": "outside"
                        },
                        "colorscale": [
                          [
                            0,
                            "#440154"
                          ],
                          [
                            0.1111111111111111,
                            "#482878"
                          ],
                          [
                            0.2222222222222222,
                            "#3e4989"
                          ],
                          [
                            0.3333333333333333,
                            "#31688e"
                          ],
                          [
                            0.4444444444444444,
                            "#26828e"
                          ],
                          [
                            0.5555555555555556,
                            "#1f9e89"
                          ],
                          [
                            0.6666666666666666,
                            "#35b779"
                          ],
                          [
                            0.7777777777777778,
                            "#6ece58"
                          ],
                          [
                            0.8888888888888888,
                            "#b5de2b"
                          ],
                          [
                            1,
                            "#fde725"
                          ]
                        ],
                        "type": "histogram2dcontour"
                      }
                    ],
                    "mesh3d": [
                      {
                        "colorbar": {
                          "outlinewidth": 1,
                          "tickcolor": "rgb(36,36,36)",
                          "ticks": "outside"
                        },
                        "type": "mesh3d"
                      }
                    ],
                    "parcoords": [
                      {
                        "line": {
                          "colorbar": {
                            "outlinewidth": 1,
                            "tickcolor": "rgb(36,36,36)",
                            "ticks": "outside"
                          }
                        },
                        "type": "parcoords"
                      }
                    ],
                    "pie": [
                      {
                        "automargin": true,
                        "type": "pie"
                      }
                    ],
                    "scatter": [
                      {
                        "fillpattern": {
                          "fillmode": "overlay",
                          "size": 10,
                          "solidity": 0.2
                        },
                        "type": "scatter"
                      }
                    ],
                    "scatter3d": [
                      {
                        "line": {
                          "colorbar": {
                            "outlinewidth": 1,
                            "tickcolor": "rgb(36,36,36)",
                            "ticks": "outside"
                          }
                        },
                        "marker": {
                          "colorbar": {
                            "outlinewidth": 1,
                            "tickcolor": "rgb(36,36,36)",
                            "ticks": "outside"
                          }
                        },
                        "type": "scatter3d"
                      }
                    ],
                    "scattercarpet": [
                      {
                        "marker": {
                          "colorbar": {
                            "outlinewidth": 1,
                            "tickcolor": "rgb(36,36,36)",
                            "ticks": "outside"
                          }
                        },
                        "type": "scattercarpet"
                      }
                    ],
                    "scattergeo": [
                      {
                        "marker": {
                          "colorbar": {
                            "outlinewidth": 1,
                            "tickcolor": "rgb(36,36,36)",
                            "ticks": "outside"
                          }
                        },
                        "type": "scattergeo"
                      }
                    ],
                    "scattergl": [
                      {
                        "marker": {
                          "colorbar": {
                            "outlinewidth": 1,
                            "tickcolor": "rgb(36,36,36)",
                            "ticks": "outside"
                          }
                        },
                        "type": "scattergl"
                      }
                    ],
                    "scattermap": [
                      {
                        "marker": {
                          "colorbar": {
                            "outlinewidth": 1,
                            "tickcolor": "rgb(36,36,36)",
                            "ticks": "outside"
                          }
                        },
                        "type": "scattermap"
                      }
                    ],
                    "scattermapbox": [
                      {
                        "marker": {
                          "colorbar": {
                            "outlinewidth": 1,
                            "tickcolor": "rgb(36,36,36)",
                            "ticks": "outside"
                          }
                        },
                        "type": "scattermapbox"
                      }
                    ],
                    "scatterpolar": [
                      {
                        "marker": {
                          "colorbar": {
                            "outlinewidth": 1,
                            "tickcolor": "rgb(36,36,36)",
                            "ticks": "outside"
                          }
                        },
                        "type": "scatterpolar"
                      }
                    ],
                    "scatterpolargl": [
                      {
                        "marker": {
                          "colorbar": {
                            "outlinewidth": 1,
                            "tickcolor": "rgb(36,36,36)",
                            "ticks": "outside"
                          }
                        },
                        "type": "scatterpolargl"
                      }
                    ],
                    "scatterternary": [
                      {
                        "marker": {
                          "colorbar": {
                            "outlinewidth": 1,
                            "tickcolor": "rgb(36,36,36)",
                            "ticks": "outside"
                          }
                        },
                        "type": "scatterternary"
                      }
                    ],
                    "surface": [
                      {
                        "colorbar": {
                          "outlinewidth": 1,
                          "tickcolor": "rgb(36,36,36)",
                          "ticks": "outside"
                        },
                        "colorscale": [
                          [
                            0,
                            "#440154"
                          ],
                          [
                            0.1111111111111111,
                            "#482878"
                          ],
                          [
                            0.2222222222222222,
                            "#3e4989"
                          ],
                          [
                            0.3333333333333333,
                            "#31688e"
                          ],
                          [
                            0.4444444444444444,
                            "#26828e"
                          ],
                          [
                            0.5555555555555556,
                            "#1f9e89"
                          ],
                          [
                            0.6666666666666666,
                            "#35b779"
                          ],
                          [
                            0.7777777777777778,
                            "#6ece58"
                          ],
                          [
                            0.8888888888888888,
                            "#b5de2b"
                          ],
                          [
                            1,
                            "#fde725"
                          ]
                        ],
                        "type": "surface"
                      }
                    ],
                    "table": [
                      {
                        "cells": {
                          "fill": {
                            "color": "rgb(237,237,237)"
                          },
                          "line": {
                            "color": "white"
                          }
                        },
                        "header": {
                          "fill": {
                            "color": "rgb(217,217,217)"
                          },
                          "line": {
                            "color": "white"
                          }
                        },
                        "type": "table"
                      }
                    ]
                  },
                  "layout": {
                    "annotationdefaults": {
                      "arrowhead": 0,
                      "arrowwidth": 1
                    },
                    "autotypenumbers": "strict",
                    "coloraxis": {
                      "colorbar": {
                        "outlinewidth": 1,
                        "tickcolor": "rgb(36,36,36)",
                        "ticks": "outside"
                      }
                    },
                    "colorscale": {
                      "diverging": [
                        [
                          0,
                          "rgb(103,0,31)"
                        ],
                        [
                          0.1,
                          "rgb(178,24,43)"
                        ],
                        [
                          0.2,
                          "rgb(214,96,77)"
                        ],
                        [
                          0.3,
                          "rgb(244,165,130)"
                        ],
                        [
                          0.4,
                          "rgb(253,219,199)"
                        ],
                        [
                          0.5,
                          "rgb(247,247,247)"
                        ],
                        [
                          0.6,
                          "rgb(209,229,240)"
                        ],
                        [
                          0.7,
                          "rgb(146,197,222)"
                        ],
                        [
                          0.8,
                          "rgb(67,147,195)"
                        ],
                        [
                          0.9,
                          "rgb(33,102,172)"
                        ],
                        [
                          1,
                          "rgb(5,48,97)"
                        ]
                      ],
                      "sequential": [
                        [
                          0,
                          "#440154"
                        ],
                        [
                          0.1111111111111111,
                          "#482878"
                        ],
                        [
                          0.2222222222222222,
                          "#3e4989"
                        ],
                        [
                          0.3333333333333333,
                          "#31688e"
                        ],
                        [
                          0.4444444444444444,
                          "#26828e"
                        ],
                        [
                          0.5555555555555556,
                          "#1f9e89"
                        ],
                        [
                          0.6666666666666666,
                          "#35b779"
                        ],
                        [
                          0.7777777777777778,
                          "#6ece58"
                        ],
                        [
                          0.8888888888888888,
                          "#b5de2b"
                        ],
                        [
                          1,
                          "#fde725"
                        ]
                      ],
                      "sequentialminus": [
                        [
                          0,
                          "#440154"
                        ],
                        [
                          0.1111111111111111,
                          "#482878"
                        ],
                        [
                          0.2222222222222222,
                          "#3e4989"
                        ],
                        [
                          0.3333333333333333,
                          "#31688e"
                        ],
                        [
                          0.4444444444444444,
                          "#26828e"
                        ],
                        [
                          0.5555555555555556,
                          "#1f9e89"
                        ],
                        [
                          0.6666666666666666,
                          "#35b779"
                        ],
                        [
                          0.7777777777777778,
                          "#6ece58"
                        ],
                        [
                          0.8888888888888888,
                          "#b5de2b"
                        ],
                        [
                          1,
                          "#fde725"
                        ]
                      ]
                    },
                    "colorway": [
                      "#1F77B4",
                      "#FF7F0E",
                      "#2CA02C",
                      "#D62728",
                      "#9467BD",
                      "#8C564B",
                      "#E377C2",
                      "#7F7F7F",
                      "#BCBD22",
                      "#17BECF"
                    ],
                    "font": {
                      "color": "rgb(36,36,36)"
                    },
                    "geo": {
                      "bgcolor": "white",
                      "lakecolor": "white",
                      "landcolor": "white",
                      "showlakes": true,
                      "showland": true,
                      "subunitcolor": "white"
                    },
                    "hoverlabel": {
                      "align": "left"
                    },
                    "hovermode": "closest",
                    "mapbox": {
                      "style": "light"
                    },
                    "paper_bgcolor": "white",
                    "plot_bgcolor": "white",
                    "polar": {
                      "angularaxis": {
                        "gridcolor": "rgb(232,232,232)",
                        "linecolor": "rgb(36,36,36)",
                        "showgrid": false,
                        "showline": true,
                        "ticks": "outside"
                      },
                      "bgcolor": "white",
                      "radialaxis": {
                        "gridcolor": "rgb(232,232,232)",
                        "linecolor": "rgb(36,36,36)",
                        "showgrid": false,
                        "showline": true,
                        "ticks": "outside"
                      }
                    },
                    "scene": {
                      "xaxis": {
                        "backgroundcolor": "white",
                        "gridcolor": "rgb(232,232,232)",
                        "gridwidth": 2,
                        "linecolor": "rgb(36,36,36)",
                        "showbackground": true,
                        "showgrid": false,
                        "showline": true,
                        "ticks": "outside",
                        "zeroline": false,
                        "zerolinecolor": "rgb(36,36,36)"
                      },
                      "yaxis": {
                        "backgroundcolor": "white",
                        "gridcolor": "rgb(232,232,232)",
                        "gridwidth": 2,
                        "linecolor": "rgb(36,36,36)",
                        "showbackground": true,
                        "showgrid": false,
                        "showline": true,
                        "ticks": "outside",
                        "zeroline": false,
                        "zerolinecolor": "rgb(36,36,36)"
                      },
                      "zaxis": {
                        "backgroundcolor": "white",
                        "gridcolor": "rgb(232,232,232)",
                        "gridwidth": 2,
                        "linecolor": "rgb(36,36,36)",
                        "showbackground": true,
                        "showgrid": false,
                        "showline": true,
                        "ticks": "outside",
                        "zeroline": false,
                        "zerolinecolor": "rgb(36,36,36)"
                      }
                    },
                    "shapedefaults": {
                      "fillcolor": "black",
                      "line": {
                        "width": 0
                      },
                      "opacity": 0.3
                    },
                    "ternary": {
                      "aaxis": {
                        "gridcolor": "rgb(232,232,232)",
                        "linecolor": "rgb(36,36,36)",
                        "showgrid": false,
                        "showline": true,
                        "ticks": "outside"
                      },
                      "baxis": {
                        "gridcolor": "rgb(232,232,232)",
                        "linecolor": "rgb(36,36,36)",
                        "showgrid": false,
                        "showline": true,
                        "ticks": "outside"
                      },
                      "bgcolor": "white",
                      "caxis": {
                        "gridcolor": "rgb(232,232,232)",
                        "linecolor": "rgb(36,36,36)",
                        "showgrid": false,
                        "showline": true,
                        "ticks": "outside"
                      }
                    },
                    "title": {
                      "x": 0.05
                    },
                    "xaxis": {
                      "automargin": true,
                      "gridcolor": "rgb(232,232,232)",
                      "linecolor": "rgb(36,36,36)",
                      "showgrid": false,
                      "showline": true,
                      "ticks": "outside",
                      "title": {
                        "standoff": 15
                      },
                      "zeroline": false,
                      "zerolinecolor": "rgb(36,36,36)"
                    },
                    "yaxis": {
                      "automargin": true,
                      "gridcolor": "rgb(232,232,232)",
                      "linecolor": "rgb(36,36,36)",
                      "showgrid": false,
                      "showline": true,
                      "ticks": "outside",
                      "title": {
                        "standoff": 15
                      },
                      "zeroline": false,
                      "zerolinecolor": "rgb(36,36,36)"
                    }
                  }
                },
                "title": {
                  "text": "Precisión del modelo con el número de features"
                },
                "xaxis": {
                  "title": {
                    "text": "Número de features"
                  }
                },
                "yaxis": {
                  "title": {
                    "text": "Score"
                  }
                }
              }
            }
          },
          "metadata": {},
          "output_type": "display_data"
        },
        {
          "name": "stdout",
          "output_type": "stream",
          "text": [
            "K óptimo por CV (precision_macro): 27  |  Score medio = 0.7275\n",
            "Variables originales seleccionadas:\n",
            "['Nationality', 'Club', 'Reactions', 'Work', 'Composure', 'Age', 'Standing_Tackle', 'Dribbling', 'Shot_Power', 'Interceptions', 'Short_Pass', 'Stamina', 'Weight', 'Finishing', 'Heading', 'Acceleration', 'Ball_Control', 'Marking', 'Speed', 'Balance', 'Sliding_Tackle', 'Agility', 'Long_Shots', 'Freekick_Accuracy', 'Strength', 'Crossing', 'Aggression']\n"
          ]
        }
      ],
      "source": [
        "# === 0) Imports (los del HTML + métricas) ===\n",
        "import numpy as np\n",
        "import plotly.graph_objects as go\n",
        "from sklearn.model_selection import cross_val_score\n",
        "\n",
        "\n",
        "\n",
        "def plot_line_std(x, y, std):\n",
        "    fig = go.Figure()\n",
        "    fig.add_trace(go.Scatter(x=x, y=y, mode='lines', name='Main Line'))\n",
        "    fig.add_trace(go.Scatter(x=np.concatenate([x, x[::-1]]),\n",
        "                             y=np.concatenate([y - std, (y + std)[::-1]]),\n",
        "                             fill='toself',\n",
        "                             fillcolor='rgba(0,100,80,0.2)',\n",
        "                             line=dict(color='rgba(255,255,255,0)'),\n",
        "                             name='Variation'))\n",
        "    fig.update_layout(title='Precisión del modelo con el número de features',\n",
        "                      template='simple_white',\n",
        "                      showlegend=False,\n",
        "                      xaxis_title='Número de features',\n",
        "                      yaxis_title='Score')\n",
        "    fig.show()\n",
        "\n",
        "# === 2) Obtener matriz transformada de TRAIN (como en el HTML) ===\n",
        "prep = pipeline_xgboost.named_steps[\"prep\"]\n",
        "clf  = pipeline_xgboost.named_steps[\"clf\"]\n",
        "\n",
        "Xtr_enc = prep.transform(X_train)\n",
        "feat_out = prep.get_feature_names_out()\n",
        "Xtr_enc = pd.DataFrame(Xtr_enc.toarray() if hasattr(Xtr_enc, \"toarray\") else Xtr_enc,\n",
        "                       columns=feat_out)\n",
        "\n",
        "# === 3) Ranking por IMPORTANCIA (gain) y mapeo a variable original ===\n",
        "booster = clf.get_booster()\n",
        "gain_dict = booster.get_score(importance_type=\"gain\")       # claves: f0,f1,...\n",
        "gain_vals = [gain_dict.get(f\"f{i}\", 0.0) for i in range(len(feat_out))]\n",
        "fi = (pd.DataFrame({\"feature_out\": feat_out, \"gain\": gain_vals})\n",
        "        .sort_values(\"gain\", ascending=False)\n",
        "        .reset_index(drop=True))\n",
        "\n",
        "def to_original(col):\n",
        "    # 'cat__Nationality_AR' -> 'Nationality' ; 'num__Age' -> 'Age'\n",
        "    if col.startswith(\"cat__\"):\n",
        "        return col[len(\"cat__\"):].split(\"_\", 1)[0]\n",
        "    if col.startswith(\"num__\"):\n",
        "        return col[len(\"num__\"):]\n",
        "    return col\n",
        "\n",
        "fi[\"orig_feature\"] = fi[\"feature_out\"].map(to_original)\n",
        "fi_group = (fi.groupby(\"orig_feature\", as_index=False)[\"gain\"]\n",
        "              .sum()\n",
        "              .sort_values(\"gain\", ascending=False))\n",
        "\n",
        "# Orden de variables ORIGINALES por importancia\n",
        "orig_rank = fi_group[\"orig_feature\"].tolist()\n",
        "print(\"Top 10 variables originales por 'gain':\")\n",
        "display(fi_group.head(10))\n",
        "\n",
        "# === 4) Eliminación progresiva (como el HTML),\n",
        "#        pero añadiendo features según el ranking de importancia ===\n",
        "def cols_for_topk(k):\n",
        "    keep_orig = set(orig_rank[:k])                     # top-k variables originales\n",
        "    keep_cols = [c for c in Xtr_enc.columns           # columnas codificadas (dummies)\n",
        "                 if to_original(c) in keep_orig]\n",
        "    return keep_cols\n",
        "\n",
        "cv = StratifiedKFold(n_splits=5, shuffle=True, random_state=42)\n",
        "\n",
        "precision_scores = []\n",
        "k_values = list(range(1, len(orig_rank) + 1))         # 1..#features_originales\n",
        "\n",
        "for k in k_values:\n",
        "    cols_k = cols_for_topk(k)\n",
        "    # igual que en el HTML: usamos el CLF directamente sobre la matriz ya transformada\n",
        "    scores = cross_val_score(\n",
        "        clf, Xtr_enc[cols_k], y_train,\n",
        "        cv=cv, scoring='precision_macro'\n",
        "    )\n",
        "    precision_scores.append(scores)\n",
        "\n",
        "# Media y desviación para el gráfico\n",
        "y_mean = np.array(precision_scores).mean(axis=1)\n",
        "y_std  = np.array(precision_scores).std(axis=1)\n",
        "\n",
        "plot_line_std(k_values, y_mean, y_std)\n",
        "\n",
        "# === 5) Elegir el K óptimo y mostrar qué variables incluye ===\n",
        "best_idx = int(np.argmax(y_mean))\n",
        "best_k = k_values[best_idx]\n",
        "print(f\"K óptimo por CV (precision_macro): {best_k}  |  Score medio = {y_mean[best_idx]:.4f}\")\n",
        "print(\"Variables originales seleccionadas:\")\n",
        "print(orig_rank[:best_k])\n"
      ]
    },
    {
      "cell_type": "code",
      "execution_count": 61,
      "metadata": {},
      "outputs": [
        {
          "name": "stdout",
          "output_type": "stream",
          "text": [
            "\n",
            "=== Modelo COMPLETO ===\n",
            "[[4715  239]\n",
            " [ 113  210]]\n",
            "              precision    recall  f1-score   support\n",
            "\n",
            "           0       0.98      0.95      0.96      4954\n",
            "           1       0.47      0.65      0.54       323\n",
            "\n",
            "    accuracy                           0.93      5277\n",
            "   macro avg       0.72      0.80      0.75      5277\n",
            "weighted avg       0.95      0.93      0.94      5277\n",
            "\n",
            "\n",
            "=== Modelo REDUCIDO (TOP-27) ===\n",
            "[[4716  238]\n",
            " [ 101  222]]\n",
            "              precision    recall  f1-score   support\n",
            "\n",
            "           0       0.98      0.95      0.97      4954\n",
            "           1       0.48      0.69      0.57       323\n",
            "\n",
            "    accuracy                           0.94      5277\n",
            "   macro avg       0.73      0.82      0.77      5277\n",
            "weighted avg       0.95      0.94      0.94      5277\n",
            "\n"
          ]
        }
      ],
      "source": [
        "# 6) Construir TEST transformado y entrenar dos modelos: completo vs. reducido\n",
        "Xte_enc = prep.transform(X_test)\n",
        "Xte_enc = pd.DataFrame(Xte_enc.toarray() if hasattr(Xte_enc, \"toarray\") else Xte_enc,\n",
        "                       columns=feat_out)\n",
        "\n",
        "cols_best = cols_for_topk(best_k)\n",
        "\n",
        "# Modelo COMPLETO\n",
        "clf_full = clf.__class__(**clf.get_params())\n",
        "clf_full.fit(Xtr_enc, y_train)\n",
        "yhat_full = clf_full.predict(Xte_enc)\n",
        "print(\"\\n=== Modelo COMPLETO ===\")\n",
        "print(confusion_matrix(y_test, yhat_full))\n",
        "print(classification_report(y_test, yhat_full, zero_division=0))\n",
        "\n",
        "# Modelo REDUCIDO (TOP-K)\n",
        "clf_red = clf.__class__(**clf.get_params())\n",
        "clf_red.fit(Xtr_enc[cols_best], y_train)\n",
        "yhat_red = clf_red.predict(Xte_enc[cols_best])\n",
        "print(f\"\\n=== Modelo REDUCIDO (TOP-{best_k}) ===\")\n",
        "print(confusion_matrix(y_test, yhat_red))\n",
        "print(classification_report(y_test, yhat_red, zero_division=0))\n"
      ]
    },
    {
      "cell_type": "markdown",
      "metadata": {},
      "source": [
        "El TOP-27 logra un punto medio: desempeño igual o mejor que el modelo completo, con menor complejidad y mejor interpretabilidad. Agregar más features después de ~30 aporta mejoras marginales, por lo que no se justifican.\n",
        "\n",
        "  a) ¿El rendimiento del modelo con las características seleccionadas es similar al del modelo original? ¿Cómo se comparan en términos de precisión y robustez? Sí, el modelo con 27 variables es un poco mejor que el completo: sube F1/Recall y no baja la Precision. La variación en CV es pequeña, por lo que sigue siendo un modelo robusto.\n",
        "  \n",
        "  b) ¿Cuáles son los beneficios potenciales de eliminar variables del modelo? Considere factores como la simplificación del modelo, reducción del tiempo de entrenamiento, y mejora en la capacidad de generalización.\n",
        "  - Simplicidad: menos columnas significa un pipeline más limpio y menos propenso a ruido.\n",
        "  - Eficiencia: se entrena y predice más rápido y con menos uso de memoria.\n",
        "  - Generalización: quitar variables poco útiles reduce la varianza y el sobreajuste.\n",
        "  - Mantenimiento: menos dependencias de los datos.\n",
        "\n",
        "  c) Comente si el modelo con menor dimensionalidad es más sencillo de explicar. Explique brevemente por qué la eliminación de ciertas características puede facilitar la comprensión y la explicación del comportamiento del modelo. \n",
        "  Sí. Con 27 variables es más fácil explicar por qué decide el modelo, pues se puede centrar en las pocas variables dominantes (Nationality/Club/skills técnicas). Además, los gráficos de importancia son más claros."
      ]
    },
    {
      "cell_type": "markdown",
      "metadata": {
        "id": "PTG5cH9r3M9g"
      },
      "source": [
        "### 2.3 Calibración Probabilistica [6 puntos]"
      ]
    },
    {
      "cell_type": "markdown",
      "metadata": {
        "id": "CDL0VqjR7yvb"
      },
      "source": [
        "<center>\n",
        "<img src='https://media2.giphy.com/media/l2Je4Ku0Cx292KWv6/200w.gif?cid=6c09b952y0sihtq9tb6sz8j2023x3zxxp3qx1ocgonkpkblj&ep=v1_gifs_search&rid=200w.gif&ct=g' width=400 />"
      ]
    },
    {
      "cell_type": "markdown",
      "metadata": {
        "id": "qmOKxhAw3sic"
      },
      "source": [
        "Para lograr modelos más modulares, se recomienda realizar una calibración del modelo entrenado anteriormente, con el objetivo de obtener salidas que reflejen mayor modularidad.\n",
        "\n",
        "1. Se solicita que utilice un método de calibración que asegure que las probabilidades generadas incrementen de manera monótona. Una métrica ampliamente utilizada para evaluar la precisión de la calibración de un modelo es el Brier Score. Calcule el Brier Score para el modelo tanto antes como después de la calibración. Esto le permitirá realizar una comparación cuantitativa y determinar si la calibración ha mejorado el rendimiento del modelo. Para más información sobre el Brier Score, puede consultar el siguiente enlace: [Scikit-Learn - Brier Score Loss](https://scikit-learn.org/stable/modules/generated/sklearn.metrics.brier_score_loss.html). [3 puntos]\n",
        "\n",
        "2. Tras la calibración, examine y comente los resultados obtenidos. A su análisis añada una comparación visual de las ideales versus las salidas del modelo original (sin calibrar) y del modelo calibrado. [3 puntos]"
      ]
    },
    {
      "cell_type": "markdown",
      "metadata": {
        "id": "QIiYz_qLuD19"
      },
      "source": [
        "**Respuesta**"
      ]
    },
    {
      "cell_type": "code",
      "execution_count": 63,
      "metadata": {
        "id": "l0bfSuiFuD2I"
      },
      "outputs": [
        {
          "name": "stdout",
          "output_type": "stream",
          "text": [
            "1. Brier Score sin calibrar: 0.0476\n",
            "2. Brier Score calibrado: 0.0355\n"
          ]
        }
      ],
      "source": [
        "from sklearn.calibration import CalibratedClassifierCV, calibration_curve\n",
        "from sklearn.metrics import brier_score_loss\n",
        "import matplotlib.pyplot as plt\n",
        "\n",
        "# 1) Probabilidades sin calibrar (modelo reducido)\n",
        "y_proba_uncal = clf_red.predict_proba(Xte_enc[cols_best])[:, 1]\n",
        "brier_uncal = brier_score_loss(y_test, y_proba_uncal)\n",
        "\n",
        "# 2) Calibración con Isotonic Regression sobre el modelo reducido\n",
        "calibrated_clf = CalibratedClassifierCV(\n",
        "    estimator=clf_red, method=\"isotonic\", cv=5\n",
        ")\n",
        "calibrated_clf.fit(Xtr_enc[cols_best], y_train)\n",
        "\n",
        "y_proba_cal = calibrated_clf.predict_proba(Xte_enc[cols_best])[:, 1]\n",
        "brier_cal = brier_score_loss(y_test, y_proba_cal)\n",
        "\n",
        "print(\"1. Brier Score sin calibrar:\", round(brier_uncal, 4))\n",
        "print(\"2. Brier Score calibrado:\", round(brier_cal, 4))\n"
      ]
    },
    {
      "cell_type": "code",
      "execution_count": 64,
      "metadata": {},
      "outputs": [
        {
          "data": {
            "image/png": "[encoded data removed]",
            "text/plain": [
              "<Figure size 700x600 with 1 Axes>"
            ]
          },
          "metadata": {},
          "output_type": "display_data"
        }
      ],
      "source": [
        "# Curvas de calibración\n",
        "prob_true_uncal, prob_pred_uncal = calibration_curve(y_test, y_proba_uncal, n_bins=10)\n",
        "prob_true_cal, prob_pred_cal = calibration_curve(y_test, y_proba_cal, n_bins=10)\n",
        "\n",
        "plt.figure(figsize=(7,6))\n",
        "plt.plot([0,1], [0,1], \"k--\", label=\"Calibración ideal\")\n",
        "plt.plot(prob_pred_uncal, prob_true_uncal, \"o-\", label=\"Modelo reducido (sin calibrar)\")\n",
        "plt.plot(prob_pred_cal, prob_true_cal, \"o-\", label=\"Modelo reducido (calibrado)\")\n",
        "plt.xlabel(\"Probabilidad predicha\")\n",
        "plt.ylabel(\"Probabilidad observada\")\n",
        "plt.title(\"Curvas de calibración (modelo reducido)\")\n",
        "plt.legend()\n",
        "plt.show()\n"
      ]
    },
    {
      "cell_type": "markdown",
      "metadata": {},
      "source": [
        "La calibración con Isotonic Regression mejoró bastante el ajuste probabilístico del modelo reducido. Esto se ve tanto con el valor reducido en el Brier Score  como en la curva calibrada que se acerca a la diagonal principal (ideal). Esto demuestra que la calibración aporta modularidad y genera mejor confianza para interpretar probabilidades."
      ]
    },
    {
      "cell_type": "markdown",
      "metadata": {
        "id": "uW4ua_Gm2t7k"
      },
      "source": [
        "Mucho éxito!\n",
        "\n",
        "<center>\n",
        "<img src=\"https://i.pinimg.com/originals/55/3d/42/553d42bea9b10e0662a05aa8726fc7f4.gif\" width=300>"
      ]
    }
  ],
  "metadata": {
    "accelerator": "GPU",
    "colab": {
      "collapsed_sections": [
        "K8DSS3u1xMpB",
        "PTG5cH9r3M9g"
      ],
      "gpuType": "T4",
      "provenance": []
    },
    "kernelspec": {
      "display_name": "pycaret_env",
      "language": "python",
      "name": "python3"
    },
    "language_info": {
      "codemirror_mode": {
        "name": "ipython",
        "version": 3
      },
      "file_extension": ".py",
      "mimetype": "text/x-python",
      "name": "python",
      "nbconvert_exporter": "python",
      "pygments_lexer": "ipython3",
      "version": "3.10.18"
    }
  },
  "nbformat": 4,
  "nbformat_minor": 0
}
